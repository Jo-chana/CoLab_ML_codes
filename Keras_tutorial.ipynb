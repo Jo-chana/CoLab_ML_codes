{
  "nbformat": 4,
  "nbformat_minor": 0,
  "metadata": {
    "colab": {
      "name": "Keras_tutorial.ipynb",
      "provenance": [],
      "collapsed_sections": [],
      "authorship_tag": "ABX9TyOnBIthutIQYVdbgOtfqaZx",
      "include_colab_link": true
    },
    "kernelspec": {
      "name": "python3",
      "display_name": "Python 3"
    },
    "accelerator": "GPU"
  },
  "cells": [
    {
      "cell_type": "markdown",
      "metadata": {
        "id": "view-in-github",
        "colab_type": "text"
      },
      "source": [
        "<a href=\"https://colab.research.google.com/github/Jo-chana/CoLab_ML_codes/blob/master/Keras_tutorial.ipynb\" target=\"_parent\"><img src=\"https://colab.research.google.com/assets/colab-badge.svg\" alt=\"Open In Colab\"/></a>"
      ]
    },
    {
      "cell_type": "code",
      "metadata": {
        "id": "lcxGg9yR7SvJ",
        "colab_type": "code",
        "colab": {}
      },
      "source": [
        " %tensorflow_version 1.x  #tensorflow downgrade\n",
        "from keras.datasets import mnist\n",
        "(train_images, train_labels), (test_images, test_labels) = mnist.load_data()\n"
      ],
      "execution_count": 0,
      "outputs": []
    },
    {
      "cell_type": "code",
      "metadata": {
        "id": "gBNNmMLr_C9P",
        "colab_type": "code",
        "colab": {}
      },
      "source": [
        "train_images = train_images.reshape((60000,28*28))\n",
        "train_images = train_images.astype('float32')/255\n",
        "\n",
        "test_images = test_images.reshape((10000,28*28))\n",
        "test_images = test_images.astype('float32')/255"
      ],
      "execution_count": 0,
      "outputs": []
    },
    {
      "cell_type": "code",
      "metadata": {
        "id": "s3w-kbDI_fie",
        "colab_type": "code",
        "colab": {}
      },
      "source": [
        "from keras.utils import to_categorical\n",
        "\n",
        "train_labels = to_categorical(train_labels)\n",
        "test_labels = to_categorical(test_labels)"
      ],
      "execution_count": 0,
      "outputs": []
    },
    {
      "cell_type": "code",
      "metadata": {
        "id": "EzZsh9mw84je",
        "colab_type": "code",
        "colab": {}
      },
      "source": [
        "from keras import models\n",
        "from keras import layers\n",
        "\n",
        "network = models.Sequential()\n",
        "network.add(layers.Dense(512, activation='relu', input_shape=(28*28,)))\n",
        "#network.add(layers.Dense(128, activation='relu'))\n",
        "network.add(layers.Dense(10, activation='softmax'))"
      ],
      "execution_count": 0,
      "outputs": []
    },
    {
      "cell_type": "code",
      "metadata": {
        "id": "qWGf_KRv9O4e",
        "colab_type": "code",
        "colab": {}
      },
      "source": [
        "network.compile(optimizer='adagrad',\n",
        "                loss='categorical_crossentropy',\n",
        "                metrics=['accuracy'])"
      ],
      "execution_count": 0,
      "outputs": []
    },
    {
      "cell_type": "code",
      "metadata": {
        "id": "o8glv7Wp_qQI",
        "colab_type": "code",
        "outputId": "845c15b6-af59-4531-959e-22de38e86ac1",
        "colab": {
          "base_uri": "https://localhost:8080/",
          "height": 210
        }
      },
      "source": [
        "network.fit(train_images,train_labels,epochs=5,batch_size=128)"
      ],
      "execution_count": 111,
      "outputs": [
        {
          "output_type": "stream",
          "text": [
            "Epoch 1/5\n",
            "60000/60000 [==============================] - 2s 34us/step - loss: 0.2346 - accuracy: 0.9327\n",
            "Epoch 2/5\n",
            "60000/60000 [==============================] - 2s 32us/step - loss: 0.1157 - accuracy: 0.9670\n",
            "Epoch 3/5\n",
            "60000/60000 [==============================] - 2s 31us/step - loss: 0.0886 - accuracy: 0.9752\n",
            "Epoch 4/5\n",
            "60000/60000 [==============================] - 2s 32us/step - loss: 0.0734 - accuracy: 0.9801\n",
            "Epoch 5/5\n",
            "60000/60000 [==============================] - 2s 32us/step - loss: 0.0633 - accuracy: 0.9831\n"
          ],
          "name": "stdout"
        },
        {
          "output_type": "execute_result",
          "data": {
            "text/plain": [
              "<keras.callbacks.callbacks.History at 0x7f9114376198>"
            ]
          },
          "metadata": {
            "tags": []
          },
          "execution_count": 111
        }
      ]
    },
    {
      "cell_type": "code",
      "metadata": {
        "id": "NKT45F2IBXCC",
        "colab_type": "code",
        "colab": {
          "base_uri": "https://localhost:8080/",
          "height": 52
        },
        "outputId": "3d1b86f1-286a-494d-a458-8153ba129b89"
      },
      "source": [
        "# 0.9837 by optimizor adam , dense 512 + dense 10\n",
        "# 0.9822 by optimizor rmsprop, dense 512 + dense 10\n",
        "network.evaluate(test_images,test_labels)"
      ],
      "execution_count": 112,
      "outputs": [
        {
          "output_type": "stream",
          "text": [
            "10000/10000 [==============================] - 1s 80us/step\n"
          ],
          "name": "stdout"
        },
        {
          "output_type": "execute_result",
          "data": {
            "text/plain": [
              "[0.07832532042618841, 0.9765999913215637]"
            ]
          },
          "metadata": {
            "tags": []
          },
          "execution_count": 112
        }
      ]
    },
    {
      "cell_type": "code",
      "metadata": {
        "id": "MOdg2sRH0Eaw",
        "colab_type": "code",
        "colab": {}
      },
      "source": [
        "y_pred=network.predict_classes(test_images)"
      ],
      "execution_count": 0,
      "outputs": []
    },
    {
      "cell_type": "code",
      "metadata": {
        "id": "3UJgD-1DIJwh",
        "colab_type": "code",
        "colab": {}
      },
      "source": [
        "y_test=np.where(test_labels==1)[1]"
      ],
      "execution_count": 0,
      "outputs": []
    },
    {
      "cell_type": "code",
      "metadata": {
        "id": "52jyaozjys1k",
        "colab_type": "code",
        "colab": {}
      },
      "source": [
        "import matplotlib.pyplot as plt\n",
        "\n",
        "plt.figure(figsize=(15,5))\n",
        "plt.subplot(131)\n",
        "plt.hist(y_pred,10)\n",
        "plt.xlabel('prediction',fontsize=12)\n",
        "plt.subplot(132)\n",
        "plt.hist(y_test,10)\n",
        "plt.xlabel('real number',fontsize=12)\n",
        "plt.subplot(133)\n",
        "plt.hist(y_pred,10)\n",
        "plt.hist(y_test,10)\n",
        "plt.xlabel('difference',fontsize=12)\n",
        "\n",
        "plt.show()"
      ],
      "execution_count": 0,
      "outputs": []
    },
    {
      "cell_type": "code",
      "metadata": {
        "id": "1SqD0s8RBywg",
        "colab_type": "code",
        "colab": {}
      },
      "source": [
        "import matplotlib as mpl\n",
        "\n",
        "mpl.rcParams['text.color'] = 'white'\n",
        "mpl.rcParams['axes.labelcolor'] = 'white'\n",
        "mpl.rcParams['xtick.color'] = 'white'\n",
        "mpl.rcParams['ytick.color'] = 'white'"
      ],
      "execution_count": 0,
      "outputs": []
    },
    {
      "cell_type": "code",
      "metadata": {
        "id": "0H_FwudD2kHW",
        "colab_type": "code",
        "colab": {}
      },
      "source": [
        "def graph():\n",
        "  plt.figure(figsize=(5,5))\n",
        "  plt.scatter(y_test,y_pred,s=(y_pred==y_test)*200+10,c=y_test==y_pred)\n",
        "  plt.xlabel('real number')\n",
        "  plt.ylabel('prediction')\n",
        "  plt.grid()\n",
        "  plt.show()\n"
      ],
      "execution_count": 0,
      "outputs": []
    },
    {
      "cell_type": "code",
      "metadata": {
        "id": "eS70GcJ65yCt",
        "colab_type": "code",
        "colab": {}
      },
      "source": [
        "graph()"
      ],
      "execution_count": 0,
      "outputs": []
    },
    {
      "cell_type": "code",
      "metadata": {
        "id": "OBlB3kbtCu1a",
        "colab_type": "code",
        "colab": {}
      },
      "source": [
        ""
      ],
      "execution_count": 0,
      "outputs": []
    }
  ]
}