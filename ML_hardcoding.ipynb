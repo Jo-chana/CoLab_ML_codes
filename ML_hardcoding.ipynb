{
  "nbformat": 4,
  "nbformat_minor": 0,
  "metadata": {
    "colab": {
      "name": "ML_hardcoding.ipynb",
      "provenance": [],
      "collapsed_sections": [],
      "authorship_tag": "ABX9TyM5QSOHbv3Y9rwyMfdAD3s8",
      "include_colab_link": true
    },
    "kernelspec": {
      "name": "python3",
      "display_name": "Python 3"
    }
  },
  "cells": [
    {
      "cell_type": "markdown",
      "metadata": {
        "id": "view-in-github",
        "colab_type": "text"
      },
      "source": [
        "<a href=\"https://colab.research.google.com/github/Jo-chana/CoLab_ML_codes/blob/master/ML_hardcoding.ipynb\" target=\"_parent\"><img src=\"https://colab.research.google.com/assets/colab-badge.svg\" alt=\"Open In Colab\"/></a>"
      ]
    },
    {
      "cell_type": "code",
      "metadata": {
        "id": "S7_vOGXnQ9MK",
        "colab_type": "code",
        "colab": {}
      },
      "source": [
        "import numpy as np\n",
        "import pandas as pd\n",
        "import matplotlib\n",
        "import matplotlib.pyplot as plt"
      ],
      "execution_count": 0,
      "outputs": []
    },
    {
      "cell_type": "code",
      "metadata": {
        "id": "L7amhqmrRCZG",
        "colab_type": "code",
        "colab": {}
      },
      "source": [
        "X = np.random.randn(200,1)\n",
        "y = 1.5*X+ np.random.randn(200,1) + 3"
      ],
      "execution_count": 0,
      "outputs": []
    },
    {
      "cell_type": "code",
      "metadata": {
        "id": "dCLJIrO8cnNM",
        "colab_type": "code",
        "colab": {}
      },
      "source": [
        "# 정규방정식 \n",
        "X_bias = np.c_[np.ones((200,1)),X] # bias 출력 추가\n",
        "theta_hat = np.linalg.inv(X_bias.T.dot(X_bias)).dot(X_bias.T).dot(y)"
      ],
      "execution_count": 0,
      "outputs": []
    },
    {
      "cell_type": "code",
      "metadata": {
        "id": "E8QKbDk6coN5",
        "colab_type": "code",
        "colab": {
          "base_uri": "https://localhost:8080/",
          "height": 52
        },
        "outputId": "6c2a256a-0b38-4128-851a-0e6814f37c2c"
      },
      "source": [
        "theta_hat"
      ],
      "execution_count": 26,
      "outputs": [
        {
          "output_type": "execute_result",
          "data": {
            "text/plain": [
              "array([[2.94726173],\n",
              "       [1.58333276]])"
            ]
          },
          "metadata": {
            "tags": []
          },
          "execution_count": 26
        }
      ]
    },
    {
      "cell_type": "code",
      "metadata": {
        "id": "XnqTcAgBdovr",
        "colab_type": "code",
        "colab": {}
      },
      "source": [
        "#데이터 그래프 함수\n",
        "def graph(X,y,y_predict):\n",
        "  plt.plot(X,y,'b.')\n",
        "  plt.plot(X_,y_predict,'r-',label='predict')\n",
        "  plt.xlabel('X',fontsize=12)\n",
        "  plt.ylabel('y',fontsize=12)\n",
        "  plt.legend(loc='upper left',fontsize=10)\n",
        "  plt.axis([min(X),max(X),min(y),max(y)])\n",
        "  plt.show()"
      ],
      "execution_count": 0,
      "outputs": []
    },
    {
      "cell_type": "code",
      "metadata": {
        "id": "H2gdust_eFCU",
        "colab_type": "code",
        "colab": {}
      },
      "source": [
        "X_ = np.linspace(min(X),max(X),200)\n",
        "y_predict = theta_hat[0] + theta_hat[1]*X_"
      ],
      "execution_count": 0,
      "outputs": []
    },
    {
      "cell_type": "code",
      "metadata": {
        "id": "SZW7wuAteGDO",
        "colab_type": "code",
        "colab": {
          "base_uri": "https://localhost:8080/",
          "height": 282
        },
        "outputId": "5824bd21-daed-436a-ae47-515ceede8059"
      },
      "source": [
        "graph(X,y,y_predict)"
      ],
      "execution_count": 39,
      "outputs": [
        {
          "output_type": "display_data",
          "data": {
            "image/png": "[encoded data removed]",
            "text/plain": [
              "<Figure size 432x288 with 1 Axes>"
            ]
          },
          "metadata": {
            "tags": []
          }
        }
      ]
    },
    {
      "cell_type": "code",
      "metadata": {
        "id": "S14cVobtgITK",
        "colab_type": "code",
        "colab": {}
      },
      "source": [
        "#MSE 그래디언트 벡터\n",
        "def gradient_MSE(X,y,theta):\n",
        "  return 2/len(X)*(X.T.dot(X.dot(theta)-y))\n",
        "\n",
        "#배치 경사 하강\n",
        "def batch_gradient_descent(X,y,eta,iteration): \n",
        "  #eta: 학습률, iteration: 반복 횟수\n",
        "  theta = np.random.randn(2,1)\n",
        "  for i in range(iteration):\n",
        "    theta = theta - eta*gradient_MSE(X,y,theta)\n",
        "  return theta"
      ],
      "execution_count": 0,
      "outputs": []
    },
    {
      "cell_type": "code",
      "metadata": {
        "id": "Egv9znvii51u",
        "colab_type": "code",
        "colab": {
          "base_uri": "https://localhost:8080/",
          "height": 52
        },
        "outputId": "38cf3d58-8236-4807-9578-420a46cb040d"
      },
      "source": [
        "batch_gradient_descent(X_bias,y,0.1,100)"
      ],
      "execution_count": 53,
      "outputs": [
        {
          "output_type": "execute_result",
          "data": {
            "text/plain": [
              "array([[2.94726173],\n",
              "       [1.58333276]])"
            ]
          },
          "metadata": {
            "tags": []
          },
          "execution_count": 53
        }
      ]
    },
    {
      "cell_type": "code",
      "metadata": {
        "id": "jeOenbDIjjVA",
        "colab_type": "code",
        "colab": {}
      },
      "source": [
        "# 확률적 경사 하강\n",
        "def stochastic_gradient_descent(X,y,eta,ls_func,iteration):\n",
        "   #ls_func: 학습 스케줄 함수\n",
        "   theta = np.random.randn(2,1)\n",
        "   for i in range(iteration):\n",
        "     random_index = np.random.randint(len(X))\n",
        "     X_random_sample = X[random_index:random_index+1]\n",
        "     y_random_sample = y[random_index:random_index+1]\n",
        "     eta = ls_func(i+1)\n",
        "     theta = theta - eta*gradient_MSE(X_random_sample,y_random_sample,theta)\n",
        "   return theta\n",
        "   "
      ],
      "execution_count": 0,
      "outputs": []
    },
    {
      "cell_type": "code",
      "metadata": {
        "id": "5lfOf9yImVYU",
        "colab_type": "code",
        "colab": {
          "base_uri": "https://localhost:8080/",
          "height": 52
        },
        "outputId": "3b7325f8-8b26-4950-868c-6e0e93e4bfc7"
      },
      "source": [
        "# learning schedule 함수\n",
        "def learning_schedule(aug):\n",
        "  return 5/(50+aug)\n",
        "\n",
        "#SGDRegressor invscaling learning schedule 함수\n",
        "def invscaling(aug,eta0=0.01, power_t=0.25):\n",
        "  return eta0/((aug)**power_t)\n",
        "\n",
        "#SGDRegressor optimal learning schedule 함수\n",
        "def optimal(aug,t0=1,alpha=0.1):\n",
        "  z = t0 + aug\n",
        "  return 1/(alpha*z)\n",
        "\n",
        "stochastic_gradient_descent(X_bias,y,0.1,learning_schedule,1000)"
      ],
      "execution_count": 123,
      "outputs": [
        {
          "output_type": "execute_result",
          "data": {
            "text/plain": [
              "array([[2.93171236],\n",
              "       [1.5833836 ]])"
            ]
          },
          "metadata": {
            "tags": []
          },
          "execution_count": 123
        }
      ]
    },
    {
      "cell_type": "code",
      "metadata": {
        "id": "ZB0nohDmoaaE",
        "colab_type": "code",
        "colab": {
          "base_uri": "https://localhost:8080/",
          "height": 52
        },
        "outputId": "5f5b23c1-addf-433f-f660-6043c2404333"
      },
      "source": [
        "stochastic_gradient_descent(X_bias,y,0.1,invscaling,1000)"
      ],
      "execution_count": 111,
      "outputs": [
        {
          "output_type": "execute_result",
          "data": {
            "text/plain": [
              "array([[2.88061419],\n",
              "       [1.64780522]])"
            ]
          },
          "metadata": {
            "tags": []
          },
          "execution_count": 111
        }
      ]
    },
    {
      "cell_type": "code",
      "metadata": {
        "id": "RY5LHuLqsbmN",
        "colab_type": "code",
        "colab": {
          "base_uri": "https://localhost:8080/",
          "height": 52
        },
        "outputId": "cb4a0426-5008-4c3b-8b22-3cdb41cf44c9"
      },
      "source": [
        "stochastic_gradient_descent(X_bias,y,0.1,optimal,1000)"
      ],
      "execution_count": 124,
      "outputs": [
        {
          "output_type": "execute_result",
          "data": {
            "text/plain": [
              "array([[2.91028077],\n",
              "       [1.65797128]])"
            ]
          },
          "metadata": {
            "tags": []
          },
          "execution_count": 124
        }
      ]
    },
    {
      "cell_type": "code",
      "metadata": {
        "id": "iULx8peaugz7",
        "colab_type": "code",
        "colab": {}
      },
      "source": [
        "#미니배치 경사 하강\n",
        "def Mbatch_gradient_descent(X,y,size=5,eta=0.1,iteration=100):\n",
        "  # size = 배치 샘플 사이즈\n",
        "  theta = np.random.randn(2,1)\n",
        "  for i in range(iteration):\n",
        "    random_index = np.random.randint(len(X))\n",
        "    X_sample = X[random_index:random_index+size+1]\n",
        "    y_sample = y[random_index:random_index+size+1]\n",
        "    theta = theta - eta*gradient_MSE(X_sample,y_sample,theta)\n",
        "  return theta"
      ],
      "execution_count": 0,
      "outputs": []
    },
    {
      "cell_type": "code",
      "metadata": {
        "id": "DdUmUpdyybpP",
        "colab_type": "code",
        "colab": {
          "base_uri": "https://localhost:8080/",
          "height": 52
        },
        "outputId": "ed58fb6d-d97f-447f-f285-1c25e2361b38"
      },
      "source": [
        "Mbatch_gradient_descent(X_bias,y,10,0.1,1000)"
      ],
      "execution_count": 132,
      "outputs": [
        {
          "output_type": "execute_result",
          "data": {
            "text/plain": [
              "array([[2.73031834],\n",
              "       [1.54046155]])"
            ]
          },
          "metadata": {
            "tags": []
          },
          "execution_count": 132
        }
      ]
    },
    {
      "cell_type": "code",
      "metadata": {
        "id": "VMQTT1nWyd4l",
        "colab_type": "code",
        "colab": {}
      },
      "source": [
        ""
      ],
      "execution_count": 0,
      "outputs": []
    }
  ]
}