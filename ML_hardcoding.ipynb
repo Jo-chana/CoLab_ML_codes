{
  "nbformat": 4,
  "nbformat_minor": 0,
  "metadata": {
    "colab": {
      "name": "ML_hardcoding.ipynb",
      "provenance": [],
      "collapsed_sections": [],
      "authorship_tag": "ABX9TyMX+t5E4h52Lppt0aWil2dr",
      "include_colab_link": true
    },
    "kernelspec": {
      "name": "python3",
      "display_name": "Python 3"
    },
    "accelerator": "GPU"
  },
  "cells": [
    {
      "cell_type": "markdown",
      "metadata": {
        "id": "view-in-github",
        "colab_type": "text"
      },
      "source": [
        "<a href=\"https://colab.research.google.com/github/Jo-chana/CoLab_ML_codes/blob/master/ML_hardcoding.ipynb\" target=\"_parent\"><img src=\"https://colab.research.google.com/assets/colab-badge.svg\" alt=\"Open In Colab\"/></a>"
      ]
    },
    {
      "cell_type": "code",
      "metadata": {
        "id": "S7_vOGXnQ9MK",
        "colab_type": "code",
        "colab": {}
      },
      "source": [
        "import numpy as np\n",
        "import pandas as pd\n",
        "import matplotlib\n",
        "import matplotlib.pyplot as plt\n",
        "from sklearn import datasets"
      ],
      "execution_count": 0,
      "outputs": []
    },
    {
      "cell_type": "code",
      "metadata": {
        "id": "L7amhqmrRCZG",
        "colab_type": "code",
        "colab": {}
      },
      "source": [
        "X = np.random.randn(200,1)\n",
        "y = 1.5*X+ np.random.randn(200,1) + 3"
      ],
      "execution_count": 0,
      "outputs": []
    },
    {
      "cell_type": "code",
      "metadata": {
        "id": "dCLJIrO8cnNM",
        "colab_type": "code",
        "colab": {}
      },
      "source": [
        "# 정규방정식 \n",
        "\n",
        "X_bias = np.c_[np.ones((200,1)),X] # bias 출력 추가\n",
        "# bias 추가 함수\n",
        "def bias(data):\n",
        "  return np.c_[np.ones((len(data),1)),data]\n",
        "\n",
        "theta_hat = np.linalg.inv(X_bias.T.dot(X_bias)).dot(X_bias.T).dot(y)"
      ],
      "execution_count": 0,
      "outputs": []
    },
    {
      "cell_type": "code",
      "metadata": {
        "id": "E8QKbDk6coN5",
        "colab_type": "code",
        "outputId": "29b6bffc-7320-4369-d3a9-69c3c4dfd9fc",
        "colab": {
          "base_uri": "https://localhost:8080/",
          "height": 52
        }
      },
      "source": [
        "theta_hat"
      ],
      "execution_count": 16,
      "outputs": [
        {
          "output_type": "execute_result",
          "data": {
            "text/plain": [
              "array([[2.88106383],\n",
              "       [1.51389848]])"
            ]
          },
          "metadata": {
            "tags": []
          },
          "execution_count": 16
        }
      ]
    },
    {
      "cell_type": "code",
      "metadata": {
        "id": "XnqTcAgBdovr",
        "colab_type": "code",
        "colab": {}
      },
      "source": [
        "#데이터 그래프 함수\n",
        "def graph(X,y,theta_hat,poly=0):\n",
        "  plt.plot(X,y,'b.')\n",
        "  X_new = np.linspace(min(X),max(X),len(X)).reshape(len(X),1)\n",
        "  if poly:\n",
        "    X_new_poly = poly_feature(X_new, poly)\n",
        "  y_new = bias(X_new_poly).dot(theta_hat)\n",
        "  plt.plot(X_new,y_new,'r-',label='predict')\n",
        "  plt.xlabel('X',fontsize=12)\n",
        "  plt.ylabel('y',fontsize=12)\n",
        "  plt.legend(loc='upper left',fontsize=10)\n",
        "  plt.axis([min(X),max(X),min(y),max(y)])\n",
        "  plt.show()"
      ],
      "execution_count": 0,
      "outputs": []
    },
    {
      "cell_type": "code",
      "metadata": {
        "id": "H2gdust_eFCU",
        "colab_type": "code",
        "colab": {}
      },
      "source": [
        "y_predict = X_bias.dot(theta_hat)"
      ],
      "execution_count": 0,
      "outputs": []
    },
    {
      "cell_type": "code",
      "metadata": {
        "id": "SZW7wuAteGDO",
        "colab_type": "code",
        "colab": {}
      },
      "source": [
        "graph(X,y,theta_hat)"
      ],
      "execution_count": 0,
      "outputs": []
    },
    {
      "cell_type": "code",
      "metadata": {
        "id": "S14cVobtgITK",
        "colab_type": "code",
        "colab": {}
      },
      "source": [
        "#MSE 그래디언트 벡터\n",
        "def gradient_MSE(X,y,theta):\n",
        "  return 2/len(X)*(X.T.dot(X.dot(theta)-y))\n",
        "\n",
        "#배치 경사 하강\n",
        "def batch_gradient_descent(X,y,eta,iteration): \n",
        "  #eta: 학습률, iteration: 반복 횟수\n",
        "  theta = np.random.randn(np.shape(X)[1],1)\n",
        "  for i in range(iteration):\n",
        "    theta = theta - eta*gradient_MSE(X,y,theta)\n",
        "  return theta"
      ],
      "execution_count": 0,
      "outputs": []
    },
    {
      "cell_type": "code",
      "metadata": {
        "id": "Egv9znvii51u",
        "colab_type": "code",
        "outputId": "9b6a1d3c-c5fd-43ec-83ea-41fccf6ae155",
        "colab": {
          "base_uri": "https://localhost:8080/",
          "height": 52
        }
      },
      "source": [
        "batch_gradient_descent(X_bias,y,0.1,100)"
      ],
      "execution_count": 25,
      "outputs": [
        {
          "output_type": "execute_result",
          "data": {
            "text/plain": [
              "array([[2.88106383],\n",
              "       [1.51389847]])"
            ]
          },
          "metadata": {
            "tags": []
          },
          "execution_count": 25
        }
      ]
    },
    {
      "cell_type": "code",
      "metadata": {
        "id": "jeOenbDIjjVA",
        "colab_type": "code",
        "colab": {}
      },
      "source": [
        "# 확률적 경사 하강\n",
        "def stochastic_gradient_descent(X,y,eta,ls_func,iteration):\n",
        "   #ls_func: 학습 스케줄 함수\n",
        "   theta = np.random.randn(2,1)\n",
        "   for i in range(iteration):\n",
        "     random_index = np.random.randint(len(X))\n",
        "     X_random_sample = X[random_index:random_index+1]\n",
        "     y_random_sample = y[random_index:random_index+1]\n",
        "     eta = ls_func(i+1)\n",
        "     theta = theta - eta*gradient_MSE(X_random_sample,y_random_sample,theta)\n",
        "   return theta\n",
        "   "
      ],
      "execution_count": 0,
      "outputs": []
    },
    {
      "cell_type": "code",
      "metadata": {
        "id": "5lfOf9yImVYU",
        "colab_type": "code",
        "outputId": "4d77887b-22e3-4c50-8e23-4e8934677bed",
        "colab": {
          "base_uri": "https://localhost:8080/",
          "height": 52
        }
      },
      "source": [
        "# learning schedule 함수\n",
        "def learning_schedule(aug):\n",
        "  return 5/(50+aug)\n",
        "\n",
        "#SGDRegressor invscaling learning schedule 함수\n",
        "def invscaling(aug,eta0=0.01, power_t=0.25):\n",
        "  return eta0/((aug)**power_t)\n",
        "\n",
        "#SGDRegressor optimal learning schedule 함수\n",
        "def optimal(aug,t0=1,alpha=0.1):\n",
        "  z = t0 + aug\n",
        "  return 1/(alpha*z)\n",
        "\n",
        "stochastic_gradient_descent(X_bias,y,0.1,learning_schedule,1000)"
      ],
      "execution_count": 27,
      "outputs": [
        {
          "output_type": "execute_result",
          "data": {
            "text/plain": [
              "array([[2.89847523],\n",
              "       [1.59155266]])"
            ]
          },
          "metadata": {
            "tags": []
          },
          "execution_count": 27
        }
      ]
    },
    {
      "cell_type": "code",
      "metadata": {
        "id": "ZB0nohDmoaaE",
        "colab_type": "code",
        "outputId": "b6e8e723-bbce-41ff-e4ef-f51b33b9275f",
        "colab": {
          "base_uri": "https://localhost:8080/",
          "height": 52
        }
      },
      "source": [
        "stochastic_gradient_descent(X_bias,y,0.1,invscaling,1000)"
      ],
      "execution_count": 28,
      "outputs": [
        {
          "output_type": "execute_result",
          "data": {
            "text/plain": [
              "array([[2.75189957],\n",
              "       [1.45219378]])"
            ]
          },
          "metadata": {
            "tags": []
          },
          "execution_count": 28
        }
      ]
    },
    {
      "cell_type": "code",
      "metadata": {
        "id": "RY5LHuLqsbmN",
        "colab_type": "code",
        "outputId": "062d4364-467a-46bf-c010-a06f3bb070fd",
        "colab": {
          "base_uri": "https://localhost:8080/",
          "height": 52
        }
      },
      "source": [
        "stochastic_gradient_descent(X_bias,y,0.1,optimal,1000)"
      ],
      "execution_count": 29,
      "outputs": [
        {
          "output_type": "execute_result",
          "data": {
            "text/plain": [
              "array([[2.86608714],\n",
              "       [1.5901458 ]])"
            ]
          },
          "metadata": {
            "tags": []
          },
          "execution_count": 29
        }
      ]
    },
    {
      "cell_type": "code",
      "metadata": {
        "id": "iULx8peaugz7",
        "colab_type": "code",
        "colab": {}
      },
      "source": [
        "#미니배치 경사 하강\n",
        "def Mbatch_gradient_descent(X,y,size=5,eta=0.1,iteration=100):\n",
        "  # size = 배치 샘플 사이즈\n",
        "  theta = np.random.randn(2,1)\n",
        "  for i in range(iteration):\n",
        "    random_index = np.random.randint(len(X))\n",
        "    X_sample = X[random_index:random_index+size+1]\n",
        "    y_sample = y[random_index:random_index+size+1]\n",
        "    theta = theta - eta*gradient_MSE(X_sample,y_sample,theta)\n",
        "  return theta"
      ],
      "execution_count": 0,
      "outputs": []
    },
    {
      "cell_type": "code",
      "metadata": {
        "id": "DdUmUpdyybpP",
        "colab_type": "code",
        "outputId": "b030f1fa-8a0d-4234-e0de-7e96c52f1b31",
        "colab": {
          "base_uri": "https://localhost:8080/",
          "height": 52
        }
      },
      "source": [
        "Mbatch_gradient_descent(X_bias,y,10,0.1,1000)"
      ],
      "execution_count": 31,
      "outputs": [
        {
          "output_type": "execute_result",
          "data": {
            "text/plain": [
              "array([[2.91013401],\n",
              "       [1.37235016]])"
            ]
          },
          "metadata": {
            "tags": []
          },
          "execution_count": 31
        }
      ]
    },
    {
      "cell_type": "code",
      "metadata": {
        "id": "VMQTT1nWyd4l",
        "colab_type": "code",
        "colab": {}
      },
      "source": [
        "from sklearn.preprocessing import PolynomialFeatures\n",
        "\n",
        "# 다중 회귀 데이터 전처리 함수\n",
        "def poly_feature(data, degree, include_bias=False):\n",
        "  # degree parameter : 데이터 차수 결정\n",
        "  return PolynomialFeatures(degree=degree, include_bias=include_bias).fit_transform(data)\n"
      ],
      "execution_count": 0,
      "outputs": []
    },
    {
      "cell_type": "code",
      "metadata": {
        "id": "_c37grzkzpsS",
        "colab_type": "code",
        "colab": {}
      },
      "source": [
        "# 3차원 데이터 생성\n",
        "X = 3*np.random.rand(50,1) - 2\n",
        "y = 0.5*X**3 + 1*X**2 + 2*X + 3 + np.random.randn(50,1)*2"
      ],
      "execution_count": 0,
      "outputs": []
    },
    {
      "cell_type": "code",
      "metadata": {
        "id": "96_tB1Nc3F3W",
        "colab_type": "code",
        "colab": {}
      },
      "source": [
        "X_poly = poly_feature(X,3)\n",
        "X_poly_bias = bias(X_poly)"
      ],
      "execution_count": 0,
      "outputs": []
    },
    {
      "cell_type": "code",
      "metadata": {
        "id": "jHDQ_SiP3JjG",
        "colab_type": "code",
        "colab": {}
      },
      "source": [
        "# 배치 경사 하강으로 다중 회귀\n",
        "theta_hat = batch_gradient_descent(X_poly_bias,y,0.1,1000)"
      ],
      "execution_count": 0,
      "outputs": []
    },
    {
      "cell_type": "code",
      "metadata": {
        "id": "-4Xe78PMLz73",
        "colab_type": "code",
        "outputId": "9922f188-f723-4de7-a631-ab5dc8ade184",
        "colab": {
          "base_uri": "https://localhost:8080/",
          "height": 87
        }
      },
      "source": [
        "theta_hat"
      ],
      "execution_count": 36,
      "outputs": [
        {
          "output_type": "execute_result",
          "data": {
            "text/plain": [
              "array([[3.72979563],\n",
              "       [2.16688147],\n",
              "       [0.8397724 ],\n",
              "       [0.47641919]])"
            ]
          },
          "metadata": {
            "tags": []
          },
          "execution_count": 36
        }
      ]
    },
    {
      "cell_type": "code",
      "metadata": {
        "id": "s23mNqYBMQgI",
        "colab_type": "code",
        "colab": {}
      },
      "source": [
        "# 10차 다중 회귀\n",
        "\n",
        "# 여러가지 방법으로 데이터 스케일링 해보기\n",
        "\n",
        "X_poly_10 = poly_feature(X,10)/100\n",
        "y_10 = y/100\n",
        "X_poly_bias_10 = bias(X_poly_10)\n",
        "\n",
        "theta_hat = batch_gradient_descent(X_poly_bias_10,y_10,0.1,1000)"
      ],
      "execution_count": 0,
      "outputs": []
    },
    {
      "cell_type": "code",
      "metadata": {
        "id": "J5P3Srz-MTam",
        "colab_type": "code",
        "outputId": "16f8c6eb-f897-489b-bd3e-d78372594877",
        "colab": {
          "base_uri": "https://localhost:8080/",
          "height": 282
        }
      },
      "source": [
        "graph(X,y,theta_hat,poly=10)"
      ],
      "execution_count": 38,
      "outputs": [
        {
          "output_type": "display_data",
          "data": {
            "image/png": "[encoded data removed]",
            "text/plain": [
              "<Figure size 432x288 with 1 Axes>"
            ]
          },
          "metadata": {
            "tags": []
          }
        }
      ]
    },
    {
      "cell_type": "code",
      "metadata": {
        "id": "uLCGkw9HMXDY",
        "colab_type": "code",
        "outputId": "e9aa1c51-cd44-4b10-b536-e831a599a5f2",
        "colab": {
          "base_uri": "https://localhost:8080/",
          "height": 282
        }
      },
      "source": [
        "X_poly_10 = np.arctan(poly_feature(X,10))\n",
        "y_10 = np.arctan(y)\n",
        "X_poly_bias_10 = bias(X_poly_10)\n",
        "\n",
        "theta_hat = batch_gradient_descent(X_poly_bias_10,y_10,0.1,1000)\n",
        "graph(X,y,theta_hat,poly=10)"
      ],
      "execution_count": 39,
      "outputs": [
        {
          "output_type": "display_data",
          "data": {
            "image/png": "[encoded data removed]",
            "text/plain": [
              "<Figure size 432x288 with 1 Axes>"
            ]
          },
          "metadata": {
            "tags": []
          }
        }
      ]
    },
    {
      "cell_type": "code",
      "metadata": {
        "id": "uUPFCJLg8_HG",
        "colab_type": "code",
        "colab": {}
      },
      "source": [
        "# 릿지 회귀 Ridge Regression\n",
        "\n",
        "def Ridge_Regression(X,y,eta = 0.01,alpha=0.1,solver='Normal',iteration=1000):\n",
        "  A = np.eye(np.shape(X)[1]);A[0][0]=0 # bias 제외\n",
        "\n",
        "  # 릿지 회귀 정규방정식\n",
        "\n",
        "  if solver == 'Normal':\n",
        "    theta_hat = np.linalg.inv(X.T.dot(X)+alpha*A).dot(X.T).dot(y)\n",
        "   \n",
        "    \"\"\" \n",
        "    숄레스키 분해를 이용한 릿지 회귀\n",
        "    릿지 회귀는 어떤 행렬 A 가 대칭이고 양의 정부호 행렬일 경우 하삼각행렬 L의\n",
        "    L L^T 로 분해될 수 있음을 이용하며 성능 면에서 우위를 점함\n",
        "    \"\"\"\n",
        "    \n",
        "  elif solver == 'cholesky':\n",
        "    L = np.linalg.cholesky(X.T.dot(X)+ alpha*A)\n",
        "    theta_hat = np.linalg.solve(L.dot(L.T),X.T.dot(y))\n",
        "  \n",
        "\n",
        "  \n",
        "  # 릿지 회귀 경사 하강 모델\n",
        "  elif solver == 'regression':\n",
        "    theta = np.random.randn(np.shape(X)[1],1)\n",
        "    for i in range(iteration):\n",
        "      theta = theta - eta*(gradient_MSE(X,y,theta)+alpha*A.dot(theta))\n",
        "    return theta\n",
        "\n",
        "  return theta_hat\n",
        "\n"
      ],
      "execution_count": 0,
      "outputs": []
    },
    {
      "cell_type": "code",
      "metadata": {
        "id": "Hdtk6Gol_owq",
        "colab_type": "code",
        "outputId": "745f0975-3dc5-4c30-9339-5d73f784e934",
        "colab": {
          "base_uri": "https://localhost:8080/",
          "height": 87
        }
      },
      "source": [
        "# 릿지 회귀 정규방정식\n",
        "theta_hat = Ridge_Regression(X_poly_bias,y) \n",
        "print(theta_hat)"
      ],
      "execution_count": 41,
      "outputs": [
        {
          "output_type": "stream",
          "text": [
            "[[3.73221738]\n",
            " [2.14940925]\n",
            " [0.82622793]\n",
            " [0.47526169]]\n"
          ],
          "name": "stdout"
        }
      ]
    },
    {
      "cell_type": "code",
      "metadata": {
        "id": "K1CLTi-_C8gS",
        "colab_type": "code",
        "colab": {}
      },
      "source": [
        "#릿지 회귀 숄레스키 분해\n",
        "theta_hat = Ridge_Regression(X_poly_bias,y,alpha=0,solver='cholesky')\n",
        "\n",
        "#alpha = 1\n",
        "theta_hat_1 = Ridge_Regression(X_poly_bias,y,alpha=1,solver='cholesky')\n",
        "\n",
        "#alpha = 10\n",
        "theta_hat_10 = Ridge_Regression(X_poly_bias,y,alpha=10,solver='cholesky')"
      ],
      "execution_count": 0,
      "outputs": []
    },
    {
      "cell_type": "code",
      "metadata": {
        "id": "3hJxuxSrC_IV",
        "colab_type": "code",
        "outputId": "9045a286-4d57-4cb4-887c-f9beca6b77f2",
        "colab": {
          "base_uri": "https://localhost:8080/",
          "height": 282
        }
      },
      "source": [
        "plt.plot(X,y,'b.')\n",
        "X_new = np.linspace(min(X),max(X),len(X)).reshape(len(X),1)\n",
        "X_new_poly = poly_feature(X_new, 3)\n",
        "y_new = bias(X_new_poly).dot(theta_hat)\n",
        "y_new_1 = bias(X_new_poly).dot(theta_hat_1)\n",
        "y_new_10 = bias(X_new_poly).dot(theta_hat_10)\n",
        "plt.plot(X_new,y_new,'r-',label=r'$\\alpha$=0')\n",
        "plt.plot(X_new,y_new_1,'g-',label=r'$\\alpha$=1')\n",
        "plt.plot(X_new,y_new_10,'k--',label=r'$\\alpha$=10')\n",
        "plt.xlabel('X',fontsize=12)\n",
        "plt.ylabel('y',fontsize=12)\n",
        "plt.legend(loc='upper left',fontsize=10)\n",
        "plt.axis([min(X),max(X),min(y),max(y)])\n",
        "plt.show()"
      ],
      "execution_count": 43,
      "outputs": [
        {
          "output_type": "display_data",
          "data": {
            "image/png": "[encoded data removed]",
            "text/plain": [
              "<Figure size 432x288 with 1 Axes>"
            ]
          },
          "metadata": {
            "tags": []
          }
        }
      ]
    },
    {
      "cell_type": "code",
      "metadata": {
        "id": "YhY3QmKTFiBT",
        "colab_type": "code",
        "colab": {}
      },
      "source": [
        "# 라쏘 회귀\n",
        "\n",
        "\"\"\"\n",
        "라쏘 회귀는 규제항으로 가중치 벡터의 l1 노름을 사용하며 릿지 회귀에 비해 \n",
        "덜 중요한 특성의 가중치를 완전히 배제하려는 경향이 있다.\n",
        "\"\"\"\n",
        "\n",
        "def lasso_regression(X,y,eta = 0.01, alpha=0.1,iteration=1000):\n",
        "  theta = np.random.randn(np.shape(X)[1],1)\n",
        "  for i in range(iteration):\n",
        "\n",
        "    # 서브그래디언트 벡터 추출\n",
        "    sub_gradient = []\n",
        "    for i in range(len(theta)):\n",
        "      if theta[i] == 0:\n",
        "        sub_gradient.append(0)\n",
        "      elif theta[i] > 0:\n",
        "        sub_gradient.append(1)\n",
        "      else:\n",
        "        sub_gradient.append(-1)\n",
        "    sub_gradient = np.array(sub_gradient).reshape(len(theta),1)\n",
        "\n",
        "      \n",
        "    theta = theta - eta*(gradient_MSE(X,y,theta) + alpha*sub_gradient)\n",
        "\n",
        "  return theta\n"
      ],
      "execution_count": 0,
      "outputs": []
    },
    {
      "cell_type": "code",
      "metadata": {
        "id": "CArov3ePONCD",
        "colab_type": "code",
        "colab": {}
      },
      "source": [
        "theta_hat = lasso_regression(X_poly_bias,y)"
      ],
      "execution_count": 0,
      "outputs": []
    },
    {
      "cell_type": "code",
      "metadata": {
        "id": "vzdIuv3VPGlO",
        "colab_type": "code",
        "colab": {
          "base_uri": "https://localhost:8080/",
          "height": 282
        },
        "outputId": "27959b90-8b1e-410b-8932-6d1fa6dcad8b"
      },
      "source": [
        "graph(X,y,theta_hat,poly=3)"
      ],
      "execution_count": 46,
      "outputs": [
        {
          "output_type": "display_data",
          "data": {
            "image/png": "[encoded data removed]",
            "text/plain": [
              "<Figure size 432x288 with 1 Axes>"
            ]
          },
          "metadata": {
            "tags": []
          }
        }
      ]
    },
    {
      "cell_type": "code",
      "metadata": {
        "id": "td9NX3C-PHoE",
        "colab_type": "code",
        "colab": {
          "base_uri": "https://localhost:8080/",
          "height": 283
        },
        "outputId": "18d586e2-600a-4dca-e172-af3c55f373eb"
      },
      "source": [
        "# 릿지 라쏘 비교\n",
        "\n",
        "theta_ridge = Ridge_Regression(X_poly_bias,y,solver='cholesky')\n",
        "theta_lasso = lasso_regression(X_poly_bias,y)\n",
        "\n",
        "plt.plot(X,y,'b.')\n",
        "X_ = np.linspace(min(X),max(X),len(X)).reshape(len(X),1)\n",
        "X_new = poly_feature(X_,3)\n",
        "X_new_bias = bias(X_new)\n",
        "ridge_pred = X_new_bias.dot(theta_ridge)\n",
        "lasso_pred = X_new_bias.dot(theta_lasso)\n",
        "plt.plot(X_, ridge_pred, 'r--',label='Ridge')\n",
        "plt.plot(X_, lasso_pred, 'g--',label='Lasso')\n",
        "plt.xlabel('x',fontsize=14)\n",
        "plt.ylabel('y',fontsize=14)\n",
        "plt.legend(loc='upper left',fontsize=12)\n",
        "plt.axis([min(X),max(X),min(y),max(y)])\n",
        "plt.show()"
      ],
      "execution_count": 47,
      "outputs": [
        {
          "output_type": "display_data",
          "data": {
            "image/png": "[encoded data removed]",
            "text/plain": [
              "<Figure size 432x288 with 1 Axes>"
            ]
          },
          "metadata": {
            "tags": []
          }
        }
      ]
    },
    {
      "cell_type": "code",
      "metadata": {
        "id": "DK6Gud2wSAvp",
        "colab_type": "code",
        "colab": {}
      },
      "source": [
        "iris = datasets.load_iris()"
      ],
      "execution_count": 0,
      "outputs": []
    },
    {
      "cell_type": "code",
      "metadata": {
        "id": "H3-ArCVbXJUU",
        "colab_type": "code",
        "colab": {}
      },
      "source": [
        "X = iris['data']\n",
        "y = np.array([(iris['target']==1).astype(np.int)])\n",
        "X_train = X[:120]\n",
        "y_train = y.T[:120].T\n",
        "X_test = X[120:]\n",
        "y_test = y.T[120:].T"
      ],
      "execution_count": 0,
      "outputs": []
    },
    {
      "cell_type": "code",
      "metadata": {
        "id": "IrI7mpEGYkQO",
        "colab_type": "code",
        "colab": {
          "base_uri": "https://localhost:8080/",
          "height": 34
        },
        "outputId": "bdc44dff-32b4-41f9-eb76-8617a360afb5"
      },
      "source": [
        "np.shape(y_train)"
      ],
      "execution_count": 50,
      "outputs": [
        {
          "output_type": "execute_result",
          "data": {
            "text/plain": [
              "(1, 120)"
            ]
          },
          "metadata": {
            "tags": []
          },
          "execution_count": 50
        }
      ]
    },
    {
      "cell_type": "code",
      "metadata": {
        "id": "wtcXPaX2XJ_I",
        "colab_type": "code",
        "colab": {}
      },
      "source": [
        "# 로지스틱 회귀\n",
        "\n",
        "def logistic(X,y,eta=0.01,iteration=1000):\n",
        "  theta = np.random.randn(np.shape(X)[1],1)\n",
        "  for i in range(iteration):\n",
        "    \"\"\"\n",
        "    로지스틱 회귀는 최솟값을 구하는 정규방정식 등의 명확한 해가 알려져 있지 않지만\n",
        "    비용함수가 볼록 함수이기에 경사 하강법으로 전역 최솟값을 찾는 것이 보장되어 있다.\n",
        "    \n",
        "    *비용함수의 그래디언트는 http://chana.tistory.com/22 에 표시하여 놓았으며 \n",
        "    다음 수식은 행렬계산을 이용하여 sum 을 대신한 연산입니다.\n",
        "    \"\"\"\n",
        "\n",
        "    gradient_cost = (theta.T.dot(X.T) - y).dot(X)/len(X)\n",
        "    theta = theta - eta*gradient_cost.T\n",
        "  return theta\n",
        "\n",
        "\n"
      ],
      "execution_count": 0,
      "outputs": []
    },
    {
      "cell_type": "code",
      "metadata": {
        "id": "pwGq8_r7f8x5",
        "colab_type": "code",
        "colab": {}
      },
      "source": [
        "theta = logistic(X_train,y_train)"
      ],
      "execution_count": 0,
      "outputs": []
    },
    {
      "cell_type": "code",
      "metadata": {
        "id": "f9pLer26lPnB",
        "colab_type": "code",
        "colab": {}
      },
      "source": [
        "y_pred = X_test.dot(theta)\n",
        "y_test.T - y_pred"
      ],
      "execution_count": 0,
      "outputs": []
    },
    {
      "cell_type": "code",
      "metadata": {
        "id": "mxq1M-2Alu_r",
        "colab_type": "code",
        "colab": {}
      },
      "source": [
        "# 소프트맥스 회귀 softmax regression\n",
        "\n",
        "def softmax_regression(X,y,class_num,eta=0.01,iteration=1000):\n",
        "  # parameter matrix\n",
        "  param_mtx = np.random.randn(class_num,np.shape(X)[1])\n",
        "\n",
        "\n",
        "  for i in range(iteration):\n",
        "    cls_score = param_mtx.dot(X.T)\n",
        "    cls_sum = np.exp(cls_score).sum(axis=0)\n",
        "    # 소프트맥스 정규화\n",
        "    arr_ = []\n",
        "    for cls in range(class_num):\n",
        "      arr_.append(cls_sum)\n",
        "    arr_ = np.array(arr_)\n",
        "    p_hat = np.exp(cls_score)/ arr_\n",
        "\n",
        "    #cross-entropy cost function gradient 크로스엔트로피 그래디언트 벡터\n",
        "    cross_gradient = (p_hat - y).dot(X)/len(X)\n",
        "    param_mtx = param_mtx - eta*cross_gradient\n",
        "    \n",
        "  return param_mtx\n",
        "\n",
        "  \n",
        "  \n",
        "\n",
        "\n"
      ],
      "execution_count": 0,
      "outputs": []
    },
    {
      "cell_type": "code",
      "metadata": {
        "id": "t2v_Rtr3xfaW",
        "colab_type": "code",
        "colab": {}
      },
      "source": [
        "X = iris['data']\n",
        "y = []\n",
        "for i in range(3):\n",
        "  y.append((iris['target']==i).astype(np.int))\n",
        "y = np.array(y)"
      ],
      "execution_count": 0,
      "outputs": []
    },
    {
      "cell_type": "code",
      "metadata": {
        "id": "RbKEp7ILyO2x",
        "colab_type": "code",
        "colab": {
          "base_uri": "https://localhost:8080/",
          "height": 34
        },
        "outputId": "a0dd8b4e-eace-46ba-a419-cb70d5b1a9e5"
      },
      "source": [
        "np.shape(y)"
      ],
      "execution_count": 119,
      "outputs": [
        {
          "output_type": "execute_result",
          "data": {
            "text/plain": [
              "(3, 150)"
            ]
          },
          "metadata": {
            "tags": []
          },
          "execution_count": 119
        }
      ]
    },
    {
      "cell_type": "code",
      "metadata": {
        "id": "QKmnMBT_53FW",
        "colab_type": "code",
        "colab": {}
      },
      "source": [
        "param = softmax_regression(X,y,3)"
      ],
      "execution_count": 0,
      "outputs": []
    },
    {
      "cell_type": "code",
      "metadata": {
        "id": "XhRFA49P7G_R",
        "colab_type": "code",
        "colab": {
          "base_uri": "https://localhost:8080/",
          "height": 34
        },
        "outputId": "ad50bb94-4b0a-4545-d349-6a9e2285f52a"
      },
      "source": [
        "y[:,23]"
      ],
      "execution_count": 132,
      "outputs": [
        {
          "output_type": "execute_result",
          "data": {
            "text/plain": [
              "array([1, 0, 0])"
            ]
          },
          "metadata": {
            "tags": []
          },
          "execution_count": 132
        }
      ]
    },
    {
      "cell_type": "code",
      "metadata": {
        "id": "xP-Gb3iv74IH",
        "colab_type": "code",
        "colab": {
          "base_uri": "https://localhost:8080/",
          "height": 70
        },
        "outputId": "e04b41f4-3a4c-4383-e418-9a6f3e551653"
      },
      "source": [
        "param.dot(np.array([X[23]]).T)"
      ],
      "execution_count": 135,
      "outputs": [
        {
          "output_type": "execute_result",
          "data": {
            "text/plain": [
              "array([[-5.1148754 ],\n",
              "       [-6.75936861],\n",
              "       [-9.09933179]])"
            ]
          },
          "metadata": {
            "tags": []
          },
          "execution_count": 135
        }
      ]
    },
    {
      "cell_type": "code",
      "metadata": {
        "id": "OpF63KLN8QGI",
        "colab_type": "code",
        "colab": {}
      },
      "source": [
        ""
      ],
      "execution_count": 0,
      "outputs": []
    }
  ]
}