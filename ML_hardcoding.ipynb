{
  "nbformat": 4,
  "nbformat_minor": 0,
  "metadata": {
    "colab": {
      "name": "ML_hardcoding.ipynb",
      "provenance": [],
      "collapsed_sections": [],
      "authorship_tag": "ABX9TyO0uoU2AbnWdxand87JCTxM",
      "include_colab_link": true
    },
    "kernelspec": {
      "name": "python3",
      "display_name": "Python 3"
    }
  },
  "cells": [
    {
      "cell_type": "markdown",
      "metadata": {
        "id": "view-in-github",
        "colab_type": "text"
      },
      "source": [
        "<a href=\"https://colab.research.google.com/github/Jo-chana/CoLab_ML_codes/blob/master/ML_hardcoding.ipynb\" target=\"_parent\"><img src=\"https://colab.research.google.com/assets/colab-badge.svg\" alt=\"Open In Colab\"/></a>"
      ]
    },
    {
      "cell_type": "code",
      "metadata": {
        "id": "S7_vOGXnQ9MK",
        "colab_type": "code",
        "colab": {}
      },
      "source": [
        "import numpy as np\n",
        "import pandas as pd\n",
        "import matplotlib\n",
        "import matplotlib.pyplot as plt"
      ],
      "execution_count": 0,
      "outputs": []
    },
    {
      "cell_type": "code",
      "metadata": {
        "id": "L7amhqmrRCZG",
        "colab_type": "code",
        "colab": {}
      },
      "source": [
        "X = np.random.randn(200,1)\n",
        "y = 1.5*X+ np.random.randn(200,1) + 3"
      ],
      "execution_count": 0,
      "outputs": []
    },
    {
      "cell_type": "code",
      "metadata": {
        "id": "dCLJIrO8cnNM",
        "colab_type": "code",
        "colab": {}
      },
      "source": [
        "# 정규방정식 \n",
        "X_bias = np.c_[np.ones((200,1)),X] # bias 출력 추가\n",
        "# bias 추가 함수\n",
        "def bias(data):\n",
        "  return np.c_[np.ones((len(data),1)),data]\n",
        "\n",
        "theta_hat = np.linalg.inv(X_bias.T.dot(X_bias)).dot(X_bias.T).dot(y)"
      ],
      "execution_count": 0,
      "outputs": []
    },
    {
      "cell_type": "code",
      "metadata": {
        "id": "E8QKbDk6coN5",
        "colab_type": "code",
        "colab": {
          "base_uri": "https://localhost:8080/",
          "height": 52
        },
        "outputId": "bdc6d163-d285-49e4-f2a6-c0b20246201c"
      },
      "source": [
        "theta_hat"
      ],
      "execution_count": 182,
      "outputs": [
        {
          "output_type": "execute_result",
          "data": {
            "text/plain": [
              "array([[3.09038329],\n",
              "       [1.47594713]])"
            ]
          },
          "metadata": {
            "tags": []
          },
          "execution_count": 182
        }
      ]
    },
    {
      "cell_type": "code",
      "metadata": {
        "id": "XnqTcAgBdovr",
        "colab_type": "code",
        "colab": {}
      },
      "source": [
        "#데이터 그래프 함수\n",
        "def graph(X,y,theta_hat,poly=0):\n",
        "  plt.plot(X,y,'b.')\n",
        "  X_new = np.linspace(min(X),max(X),len(X)).reshape(len(X),1)\n",
        "  if poly:\n",
        "    X_new_poly = poly_feature(X_new, poly)\n",
        "  y_new = bias(X_new_poly).dot(theta_hat)\n",
        "  plt.plot(X_new,y_new,'r-',label='predict')\n",
        "  plt.xlabel('X',fontsize=12)\n",
        "  plt.ylabel('y',fontsize=12)\n",
        "  plt.legend(loc='upper left',fontsize=10)\n",
        "  plt.axis([min(X),max(X),min(y),max(y)])\n",
        "  plt.show()"
      ],
      "execution_count": 0,
      "outputs": []
    },
    {
      "cell_type": "code",
      "metadata": {
        "id": "H2gdust_eFCU",
        "colab_type": "code",
        "colab": {}
      },
      "source": [
        "y_predict = X_bias.dot(theta_hat)"
      ],
      "execution_count": 0,
      "outputs": []
    },
    {
      "cell_type": "code",
      "metadata": {
        "id": "SZW7wuAteGDO",
        "colab_type": "code",
        "colab": {
          "base_uri": "https://localhost:8080/",
          "height": 282
        },
        "outputId": "d2967718-0f3e-49eb-e2f0-7603e648e62a"
      },
      "source": [
        "graph(X,y,theta_hat)"
      ],
      "execution_count": 185,
      "outputs": [
        {
          "output_type": "display_data",
          "data": {
            "image/png": "[encoded data removed]",
            "text/plain": [
              "<Figure size 432x288 with 1 Axes>"
            ]
          },
          "metadata": {
            "tags": []
          }
        }
      ]
    },
    {
      "cell_type": "code",
      "metadata": {
        "id": "S14cVobtgITK",
        "colab_type": "code",
        "colab": {}
      },
      "source": [
        "#MSE 그래디언트 벡터\n",
        "def gradient_MSE(X,y,theta):\n",
        "  return 2/len(X)*(X.T.dot(X.dot(theta)-y))\n",
        "\n",
        "#배치 경사 하강\n",
        "def batch_gradient_descent(X,y,eta,iteration): \n",
        "  #eta: 학습률, iteration: 반복 횟수\n",
        "  theta = np.random.randn(np.shape(X)[1],1)\n",
        "  for i in range(iteration):\n",
        "    theta = theta - eta*gradient_MSE(X,y,theta)\n",
        "  return theta"
      ],
      "execution_count": 0,
      "outputs": []
    },
    {
      "cell_type": "code",
      "metadata": {
        "id": "Egv9znvii51u",
        "colab_type": "code",
        "colab": {
          "base_uri": "https://localhost:8080/",
          "height": 52
        },
        "outputId": "38cf3d58-8236-4807-9578-420a46cb040d"
      },
      "source": [
        "batch_gradient_descent(X_bias,y,0.1,100)"
      ],
      "execution_count": 53,
      "outputs": [
        {
          "output_type": "execute_result",
          "data": {
            "text/plain": [
              "array([[2.94726173],\n",
              "       [1.58333276]])"
            ]
          },
          "metadata": {
            "tags": []
          },
          "execution_count": 53
        }
      ]
    },
    {
      "cell_type": "code",
      "metadata": {
        "id": "jeOenbDIjjVA",
        "colab_type": "code",
        "colab": {}
      },
      "source": [
        "# 확률적 경사 하강\n",
        "def stochastic_gradient_descent(X,y,eta,ls_func,iteration):\n",
        "   #ls_func: 학습 스케줄 함수\n",
        "   theta = np.random.randn(2,1)\n",
        "   for i in range(iteration):\n",
        "     random_index = np.random.randint(len(X))\n",
        "     X_random_sample = X[random_index:random_index+1]\n",
        "     y_random_sample = y[random_index:random_index+1]\n",
        "     eta = ls_func(i+1)\n",
        "     theta = theta - eta*gradient_MSE(X_random_sample,y_random_sample,theta)\n",
        "   return theta\n",
        "   "
      ],
      "execution_count": 0,
      "outputs": []
    },
    {
      "cell_type": "code",
      "metadata": {
        "id": "5lfOf9yImVYU",
        "colab_type": "code",
        "colab": {
          "base_uri": "https://localhost:8080/",
          "height": 52
        },
        "outputId": "3b7325f8-8b26-4950-868c-6e0e93e4bfc7"
      },
      "source": [
        "# learning schedule 함수\n",
        "def learning_schedule(aug):\n",
        "  return 5/(50+aug)\n",
        "\n",
        "#SGDRegressor invscaling learning schedule 함수\n",
        "def invscaling(aug,eta0=0.01, power_t=0.25):\n",
        "  return eta0/((aug)**power_t)\n",
        "\n",
        "#SGDRegressor optimal learning schedule 함수\n",
        "def optimal(aug,t0=1,alpha=0.1):\n",
        "  z = t0 + aug\n",
        "  return 1/(alpha*z)\n",
        "\n",
        "stochastic_gradient_descent(X_bias,y,0.1,learning_schedule,1000)"
      ],
      "execution_count": 123,
      "outputs": [
        {
          "output_type": "execute_result",
          "data": {
            "text/plain": [
              "array([[2.93171236],\n",
              "       [1.5833836 ]])"
            ]
          },
          "metadata": {
            "tags": []
          },
          "execution_count": 123
        }
      ]
    },
    {
      "cell_type": "code",
      "metadata": {
        "id": "ZB0nohDmoaaE",
        "colab_type": "code",
        "colab": {
          "base_uri": "https://localhost:8080/",
          "height": 52
        },
        "outputId": "5f5b23c1-addf-433f-f660-6043c2404333"
      },
      "source": [
        "stochastic_gradient_descent(X_bias,y,0.1,invscaling,1000)"
      ],
      "execution_count": 111,
      "outputs": [
        {
          "output_type": "execute_result",
          "data": {
            "text/plain": [
              "array([[2.88061419],\n",
              "       [1.64780522]])"
            ]
          },
          "metadata": {
            "tags": []
          },
          "execution_count": 111
        }
      ]
    },
    {
      "cell_type": "code",
      "metadata": {
        "id": "RY5LHuLqsbmN",
        "colab_type": "code",
        "colab": {
          "base_uri": "https://localhost:8080/",
          "height": 52
        },
        "outputId": "cb4a0426-5008-4c3b-8b22-3cdb41cf44c9"
      },
      "source": [
        "stochastic_gradient_descent(X_bias,y,0.1,optimal,1000)"
      ],
      "execution_count": 124,
      "outputs": [
        {
          "output_type": "execute_result",
          "data": {
            "text/plain": [
              "array([[2.91028077],\n",
              "       [1.65797128]])"
            ]
          },
          "metadata": {
            "tags": []
          },
          "execution_count": 124
        }
      ]
    },
    {
      "cell_type": "code",
      "metadata": {
        "id": "iULx8peaugz7",
        "colab_type": "code",
        "colab": {}
      },
      "source": [
        "#미니배치 경사 하강\n",
        "def Mbatch_gradient_descent(X,y,size=5,eta=0.1,iteration=100):\n",
        "  # size = 배치 샘플 사이즈\n",
        "  theta = np.random.randn(2,1)\n",
        "  for i in range(iteration):\n",
        "    random_index = np.random.randint(len(X))\n",
        "    X_sample = X[random_index:random_index+size+1]\n",
        "    y_sample = y[random_index:random_index+size+1]\n",
        "    theta = theta - eta*gradient_MSE(X_sample,y_sample,theta)\n",
        "  return theta"
      ],
      "execution_count": 0,
      "outputs": []
    },
    {
      "cell_type": "code",
      "metadata": {
        "id": "DdUmUpdyybpP",
        "colab_type": "code",
        "colab": {
          "base_uri": "https://localhost:8080/",
          "height": 52
        },
        "outputId": "ed58fb6d-d97f-447f-f285-1c25e2361b38"
      },
      "source": [
        "Mbatch_gradient_descent(X_bias,y,10,0.1,1000)"
      ],
      "execution_count": 132,
      "outputs": [
        {
          "output_type": "execute_result",
          "data": {
            "text/plain": [
              "array([[2.73031834],\n",
              "       [1.54046155]])"
            ]
          },
          "metadata": {
            "tags": []
          },
          "execution_count": 132
        }
      ]
    },
    {
      "cell_type": "code",
      "metadata": {
        "id": "VMQTT1nWyd4l",
        "colab_type": "code",
        "colab": {}
      },
      "source": [
        "from sklearn.preprocessing import PolynomialFeatures\n",
        "\n",
        "# 다중 회귀 데이터 전처리 함수\n",
        "def poly_feature(data, degree, include_bias=False):\n",
        "  # degree parameter : 데이터 차수 결정\n",
        "  return PolynomialFeatures(degree=degree, include_bias=include_bias).fit_transform(data)\n"
      ],
      "execution_count": 0,
      "outputs": []
    },
    {
      "cell_type": "code",
      "metadata": {
        "id": "_c37grzkzpsS",
        "colab_type": "code",
        "colab": {}
      },
      "source": [
        "# 2차원 데이터 생성\n",
        "X = 3*np.random.rand(300,1) - 2\n",
        "y = 2*X**2 + 3*X + np.random.randn(300,1)"
      ],
      "execution_count": 0,
      "outputs": []
    },
    {
      "cell_type": "code",
      "metadata": {
        "id": "96_tB1Nc3F3W",
        "colab_type": "code",
        "colab": {}
      },
      "source": [
        "X_poly = poly_feature(X, 2)\n",
        "X_poly_bias = bias(X_poly)"
      ],
      "execution_count": 0,
      "outputs": []
    },
    {
      "cell_type": "code",
      "metadata": {
        "id": "jHDQ_SiP3JjG",
        "colab_type": "code",
        "colab": {}
      },
      "source": [
        "# 배치 경사 하강으로 다중 회귀\n",
        "theta_hat = batch_gradient_descent(X_poly_bias,y,0.1,1000)"
      ],
      "execution_count": 0,
      "outputs": []
    },
    {
      "cell_type": "code",
      "metadata": {
        "id": "pYfAr7Oe3ncI",
        "colab_type": "code",
        "colab": {
          "base_uri": "https://localhost:8080/",
          "height": 70
        },
        "outputId": "ae1c4a26-9498-4828-8602-d41dbfa163bd"
      },
      "source": [
        "theta_hat"
      ],
      "execution_count": 189,
      "outputs": [
        {
          "output_type": "execute_result",
          "data": {
            "text/plain": [
              "array([[-0.11610401],\n",
              "       [ 2.95844621],\n",
              "       [ 1.96724974]])"
            ]
          },
          "metadata": {
            "tags": []
          },
          "execution_count": 189
        }
      ]
    },
    {
      "cell_type": "code",
      "metadata": {
        "id": "Sqa5E8zB4H6K",
        "colab_type": "code",
        "colab": {
          "base_uri": "https://localhost:8080/",
          "height": 282
        },
        "outputId": "dbec0f3f-0f27-44f2-f4a0-f5e71b03cb3e"
      },
      "source": [
        "graph(X,y,theta_hat,2)"
      ],
      "execution_count": 195,
      "outputs": [
        {
          "output_type": "display_data",
          "data": {
            "image/png": "[encoded data removed]",
            "text/plain": [
              "<Figure size 432x288 with 1 Axes>"
            ]
          },
          "metadata": {
            "tags": []
          }
        }
      ]
    },
    {
      "cell_type": "code",
      "metadata": {
        "id": "uUPFCJLg8_HG",
        "colab_type": "code",
        "colab": {}
      },
      "source": [
        "# 릿지 회귀 Ridge Regression\n",
        "\n",
        "def Ridge_Regression(X,y,alpha=0.1,solver='Normal',iteration=1000):\n",
        "  A = np.eye(np.shape(X)[1]);A[0][0]=0 # bias 제외\n",
        "  if solver == 'Normal':\n",
        "    theta_hat = np.linalg.inv(X.T.dot(X)+alpha*A).dot(X.T).dot(y)\n",
        "  elif solver == 'cholesky':\n",
        "    L = np.linalg.cholesky(X.T.dot(X)+ alpha*A)\n",
        "    theta_hat = np.linalg.solve(L,X.T.dot(y))\n",
        "  return theta_hat\n",
        "\n"
      ],
      "execution_count": 0,
      "outputs": []
    },
    {
      "cell_type": "code",
      "metadata": {
        "id": "Hdtk6Gol_owq",
        "colab_type": "code",
        "colab": {
          "base_uri": "https://localhost:8080/",
          "height": 70
        },
        "outputId": "7e42dc29-854a-421e-fed5-5b7bb8105f09"
      },
      "source": [
        "# 릿지 회귀 정규방정식\n",
        "theta_hat = Ridge_Regression(X_poly_bias,y) \n",
        "\n",
        "print(theta_hat)"
      ],
      "execution_count": 217,
      "outputs": [
        {
          "output_type": "stream",
          "text": [
            "[[-0.02147842]\n",
            " [ 3.10545045]\n",
            " [ 2.06380446]]\n"
          ],
          "name": "stdout"
        }
      ]
    },
    {
      "cell_type": "code",
      "metadata": {
        "id": "K1CLTi-_C8gS",
        "colab_type": "code",
        "colab": {
          "base_uri": "https://localhost:8080/",
          "height": 70
        },
        "outputId": "cfeea6f9-0835-4dbb-ada3-71a78731da8c"
      },
      "source": [
        "#릿지 회귀 숄레스키 분해\n",
        "theta_hat = Ridge_Regression(X_poly_bias,y,solver='cholesky')\n",
        "\n",
        "print(theta_hat)"
      ],
      "execution_count": 218,
      "outputs": [
        {
          "output_type": "stream",
          "text": [
            "[[10.72245434]\n",
            " [14.73454981]\n",
            " [24.52050543]]\n"
          ],
          "name": "stdout"
        }
      ]
    },
    {
      "cell_type": "code",
      "metadata": {
        "id": "3hJxuxSrC_IV",
        "colab_type": "code",
        "colab": {}
      },
      "source": [
        ""
      ],
      "execution_count": 0,
      "outputs": []
    }
  ]
}