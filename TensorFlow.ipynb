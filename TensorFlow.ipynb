{
  "nbformat": 4,
  "nbformat_minor": 0,
  "metadata": {
    "colab": {
      "name": "TensorFlow.ipynb",
      "provenance": [],
      "authorship_tag": "ABX9TyM9v2tl9DIzCk8VP/0daEqc",
      "include_colab_link": true
    },
    "kernelspec": {
      "name": "python3",
      "display_name": "Python 3"
    },
    "accelerator": "GPU"
  },
  "cells": [
    {
      "cell_type": "markdown",
      "metadata": {
        "id": "view-in-github",
        "colab_type": "text"
      },
      "source": [
        "<a href=\"https://colab.research.google.com/github/Jo-chana/CoLab_ML_codes/blob/master/TensorFlow.ipynb\" target=\"_parent\"><img src=\"https://colab.research.google.com/assets/colab-badge.svg\" alt=\"Open In Colab\"/></a>"
      ]
    },
    {
      "cell_type": "code",
      "metadata": {
        "id": "J2NMWKbDQeUl",
        "colab_type": "code",
        "colab": {
          "base_uri": "https://localhost:8080/",
          "height": 80
        },
        "outputId": "ff13ade0-5397-4053-b602-eb4adf6b783e"
      },
      "source": [
        "import tensorflow as tf"
      ],
      "execution_count": 1,
      "outputs": [
        {
          "output_type": "display_data",
          "data": {
            "text/html": [
              "<p style=\"color: red;\">\n",
              "The default version of TensorFlow in Colab will soon switch to TensorFlow 2.x.<br>\n",
              "We recommend you <a href=\"https://www.tensorflow.org/guide/migrate\" target=\"_blank\">upgrade</a> now \n",
              "or ensure your notebook will continue to use TensorFlow 1.x via the <code>%tensorflow_version 1.x</code> magic:\n",
              "<a href=\"https://colab.research.google.com/notebooks/tensorflow_version.ipynb\" target=\"_blank\">more info</a>.</p>\n"
            ],
            "text/plain": [
              "<IPython.core.display.HTML object>"
            ]
          },
          "metadata": {
            "tags": []
          }
        }
      ]
    },
    {
      "cell_type": "code",
      "metadata": {
        "id": "wFDTcXT6QkNq",
        "colab_type": "code",
        "colab": {}
      },
      "source": [
        "%tensorflow_version 1.x "
      ],
      "execution_count": 0,
      "outputs": []
    },
    {
      "cell_type": "code",
      "metadata": {
        "id": "axqZ7HAtQvYH",
        "colab_type": "code",
        "colab": {}
      },
      "source": [
        "x = tf.Variable(3, name='x')\n",
        "y = tf.Variable(4, name='y')\n",
        "f = x*x*y + y + 2"
      ],
      "execution_count": 0,
      "outputs": []
    },
    {
      "cell_type": "code",
      "metadata": {
        "id": "osNCWUZ7RAUo",
        "colab_type": "code",
        "colab": {
          "base_uri": "https://localhost:8080/",
          "height": 34
        },
        "outputId": "582aba08-9016-45b6-bd0e-6d4703763cda"
      },
      "source": [
        "sess = tf.Session()\n",
        "sess.run(x.initializer)\n",
        "sess.run(y.initializer)\n",
        "result = sess.run(f)\n",
        "print(result)\n",
        "sess.close()"
      ],
      "execution_count": 12,
      "outputs": [
        {
          "output_type": "stream",
          "text": [
            "42\n"
          ],
          "name": "stdout"
        }
      ]
    },
    {
      "cell_type": "code",
      "metadata": {
        "id": "EXRQ27s8RZEq",
        "colab_type": "code",
        "colab": {
          "base_uri": "https://localhost:8080/",
          "height": 34
        },
        "outputId": "547417ec-0b1f-4be1-a2ed-76a3aba19335"
      },
      "source": [
        "# another way/ session automatically closed when 'with' block finish\n",
        "\n",
        "with tf.Session() as sess:\n",
        "  x.initializer.run()\n",
        "  y.initializer.run()\n",
        "  result = f.eval()\n",
        "print(result)"
      ],
      "execution_count": 14,
      "outputs": [
        {
          "output_type": "stream",
          "text": [
            "42\n"
          ],
          "name": "stdout"
        }
      ]
    },
    {
      "cell_type": "code",
      "metadata": {
        "id": "RozYEHg3STVe",
        "colab_type": "code",
        "colab": {
          "base_uri": "https://localhost:8080/",
          "height": 34
        },
        "outputId": "892417e9-5231-454d-bfea-2d6080c70cd3"
      },
      "source": [
        "# another way 2/ function creates nodes to initialize all variables when calculation graph is executed\n",
        "\n",
        "init = tf.global_variables_initializer() # prepare init nodes\n",
        "\n",
        "with tf.Session() as sess:\n",
        "  init.run()\n",
        "  result = f.eval()\n",
        "print(result)"
      ],
      "execution_count": 15,
      "outputs": [
        {
          "output_type": "stream",
          "text": [
            "42\n"
          ],
          "name": "stdout"
        }
      ]
    },
    {
      "cell_type": "code",
      "metadata": {
        "id": "LVoDoyhoS-pH",
        "colab_type": "code",
        "colab": {
          "base_uri": "https://localhost:8080/",
          "height": 72
        },
        "outputId": "d219b166-9929-4aaf-aefd-08abdac6fdf2"
      },
      "source": [
        "# jupyter or python shell \n",
        "\n",
        "sess = tf.InteractiveSession()\n",
        "init.run()  # automatically designate itself as basic session\n",
        "result = f.eval()\n",
        "print(result)\n",
        "sess.close"
      ],
      "execution_count": 16,
      "outputs": [
        {
          "output_type": "stream",
          "text": [
            "42\n"
          ],
          "name": "stdout"
        },
        {
          "output_type": "execute_result",
          "data": {
            "text/plain": [
              "<bound method InteractiveSession.close of <tensorflow.python.client.session.InteractiveSession object at 0x7f395b64fcc0>>"
            ]
          },
          "metadata": {
            "tags": []
          },
          "execution_count": 16
        }
      ]
    },
    {
      "cell_type": "code",
      "metadata": {
        "id": "LkLk4rpVTtdo",
        "colab_type": "code",
        "colab": {
          "base_uri": "https://localhost:8080/",
          "height": 52
        },
        "outputId": "9df7f9e6-e6c2-4c09-a40b-c9c1ccb86638"
      },
      "source": [
        "# making independent calculation graph\n",
        "\n",
        "graph = tf.Graph()\n",
        "with graph.as_default():\n",
        "  x2 = tf.Variable(2)\n",
        "\n",
        "print(x2.graph is graph)\n",
        "print(x2.graph is tf.get_default_graph)\n",
        "\n",
        "#initailize: tf.reset_default_graph"
      ],
      "execution_count": 17,
      "outputs": [
        {
          "output_type": "stream",
          "text": [
            "True\n",
            "False\n"
          ],
          "name": "stdout"
        }
      ]
    },
    {
      "cell_type": "code",
      "metadata": {
        "id": "_a6Ma0oAUTE-",
        "colab_type": "code",
        "colab": {
          "base_uri": "https://localhost:8080/",
          "height": 52
        },
        "outputId": "e7dd432b-6fe5-4034-c831-156505c4db97"
      },
      "source": [
        "# node lifecycle\n",
        "\n",
        "w = tf.constant(3)\n",
        "x = w + 2\n",
        "y = x + 5\n",
        "z = x * 3\n",
        "\n",
        "# In this code w and x are evaluated twice to evaluate y and z\n",
        "with tf.Session() as sess:\n",
        "  print(y.eval())\n",
        "  print(z.eval())"
      ],
      "execution_count": 18,
      "outputs": [
        {
          "output_type": "stream",
          "text": [
            "10\n",
            "15\n"
          ],
          "name": "stdout"
        }
      ]
    },
    {
      "cell_type": "code",
      "metadata": {
        "id": "nIl0GDIPVgq7",
        "colab_type": "code",
        "colab": {
          "base_uri": "https://localhost:8080/",
          "height": 52
        },
        "outputId": "935de8bc-db30-426b-c8bd-cb7bf2de1ecc"
      },
      "source": [
        "# w and x are evaluated once in this code\n",
        "\n",
        "with tf.Session() as sess:\n",
        "  y_val, z_val = sess.run([y,z])\n",
        "  print(y_val)\n",
        "  print(z_val)"
      ],
      "execution_count": 20,
      "outputs": [
        {
          "output_type": "stream",
          "text": [
            "10\n",
            "15\n"
          ],
          "name": "stdout"
        }
      ]
    },
    {
      "cell_type": "code",
      "metadata": {
        "id": "h9hidwEjVr-z",
        "colab_type": "code",
        "colab": {
          "base_uri": "https://localhost:8080/",
          "height": 175
        },
        "outputId": "510c1e8e-df29-4d02-c44e-115fc861f48b"
      },
      "source": [
        "# tensor calculation\n",
        "\n",
        "import numpy as np\n",
        "from sklearn.datasets import fetch_california_housing\n",
        "\n",
        "housing = fetch_california_housing()\n",
        "m, n = housing.data.shape\n",
        "housing_data_plus_bias = np.c_[np.ones((m,1)),housing.data]\n",
        "\n",
        "X = tf.constant(housing_data_plus_bias, dtype=tf.float32, name='X')\n",
        "y = tf.constant(housing.target.reshape(-1,1), dtype=tf.float32, name='y')\n",
        "XT = tf.transpose(X)\n",
        "theta = tf.matmul(tf.matmul(tf.matrix_inverse(tf.matmul(XT,X)),XT),y)\n",
        "\n",
        "with tf.Session() as sess:\n",
        "  theta_value = theta.eval()\n",
        "\n",
        "theta_value"
      ],
      "execution_count": 23,
      "outputs": [
        {
          "output_type": "execute_result",
          "data": {
            "text/plain": [
              "array([[-3.67372932e+01],\n",
              "       [ 4.37366009e-01],\n",
              "       [ 9.47520509e-03],\n",
              "       [-1.08159676e-01],\n",
              "       [ 6.48537397e-01],\n",
              "       [-3.84734449e-06],\n",
              "       [-3.79239232e-03],\n",
              "       [-4.19136107e-01],\n",
              "       [-4.32144403e-01]], dtype=float32)"
            ]
          },
          "metadata": {
            "tags": []
          },
          "execution_count": 23
        }
      ]
    },
    {
      "cell_type": "code",
      "metadata": {
        "id": "d_AFvnLFXsym",
        "colab_type": "code",
        "colab": {
          "base_uri": "https://localhost:8080/",
          "height": 193
        },
        "outputId": "1a2bc33c-83c2-4de0-f7c2-2c6d5f1eb35b"
      },
      "source": [
        "# direct gradient calculation\n",
        "\n",
        "n_epochs = 1000\n",
        "learning_rate = 0.1\n",
        "\n",
        "from sklearn.preprocessing import StandardScaler\n",
        "\n",
        "scaler = StandardScaler()\n",
        "scaled_housing_data = scaler.fit_transform(housing_data_plus_bias)\n",
        "\n",
        "X = tf.constant(scaled_housing_data, dtype=tf.float32, name='X')\n",
        "y = tf.constant(housing.target.reshape(-1,1), dtype=tf.float32, name='y')\n",
        "theta = tf.Variable(tf.random_uniform([n+1,1],-1.0,1.0),name='theta')\n",
        "y_pred = tf.matmul(X, theta, name='predictions')\n",
        "error = y_pred - y\n",
        "mse = tf.reduce_mean(tf.square(error),name='mse')\n",
        "\n",
        "\n",
        "gradient_mse = 2/m * tf.matmul(tf.transpose(X),error)\n",
        "# gradient_mse_auto = tf.gradients(mse,[theta])[0]\n",
        "training = tf.assign(theta, theta-learning_rate*gradient_mse)\n",
        "\n",
        "# other method using optimizer\n",
        "# optimizer = tf.train.GradientDescentOptimizer(learning_rate=learning_rate)\n",
        "# training = optimizer.minimize(mse)\n",
        "\n",
        "\n",
        "\n",
        "init = tf.global_variables_initializer()\n",
        "\n",
        "with tf.Session() as sess:\n",
        "  sess.run(init)\n",
        "\n",
        "  for epoch in range(n_epochs):\n",
        "    if epoch%100 == 0:\n",
        "      print('Epoch',epoch,'MSE:',mse.eval())\n",
        "    sess.run(training)\n",
        "\n",
        "  best_theta = theta.eval()"
      ],
      "execution_count": 28,
      "outputs": [
        {
          "output_type": "stream",
          "text": [
            "Epoch 0 MSE: 6.227399\n",
            "Epoch 100 MSE: 4.81175\n",
            "Epoch 200 MSE: 4.8046083\n",
            "Epoch 300 MSE: 4.803471\n",
            "Epoch 400 MSE: 4.803289\n",
            "Epoch 500 MSE: 4.80326\n",
            "Epoch 600 MSE: 4.8032546\n",
            "Epoch 700 MSE: 4.8032537\n",
            "Epoch 800 MSE: 4.8032537\n",
            "Epoch 900 MSE: 4.8032537\n"
          ],
          "name": "stdout"
        }
      ]
    },
    {
      "cell_type": "code",
      "metadata": {
        "id": "rB-3lClEbR7_",
        "colab_type": "code",
        "colab": {}
      },
      "source": [
        ""
      ],
      "execution_count": 0,
      "outputs": []
    }
  ]
}