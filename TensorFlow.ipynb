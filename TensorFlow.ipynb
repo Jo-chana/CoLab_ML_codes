{
  "nbformat": 4,
  "nbformat_minor": 0,
  "metadata": {
    "colab": {
      "name": "TensorFlow.ipynb",
      "provenance": [],
      "authorship_tag": "ABX9TyMVRwCf+jVXsBVbiUc0PmfA",
      "include_colab_link": true
    },
    "kernelspec": {
      "name": "python3",
      "display_name": "Python 3"
    },
    "accelerator": "GPU"
  },
  "cells": [
    {
      "cell_type": "markdown",
      "metadata": {
        "id": "view-in-github",
        "colab_type": "text"
      },
      "source": [
        "<a href=\"https://colab.research.google.com/github/Jo-chana/CoLab_ML_codes/blob/master/TensorFlow.ipynb\" target=\"_parent\"><img src=\"https://colab.research.google.com/assets/colab-badge.svg\" alt=\"Open In Colab\"/></a>"
      ]
    },
    {
      "cell_type": "code",
      "metadata": {
        "id": "J2NMWKbDQeUl",
        "colab_type": "code",
        "colab": {}
      },
      "source": [
        "import tensorflow as tf\n",
        "%tensorflow_version 1.x "
      ],
      "execution_count": 0,
      "outputs": []
    },
    {
      "cell_type": "code",
      "metadata": {
        "id": "axqZ7HAtQvYH",
        "colab_type": "code",
        "colab": {}
      },
      "source": [
        "x = tf.Variable(3, name='x')\n",
        "y = tf.Variable(4, name='y')\n",
        "f = x*x*y + y + 2"
      ],
      "execution_count": 0,
      "outputs": []
    },
    {
      "cell_type": "code",
      "metadata": {
        "id": "osNCWUZ7RAUo",
        "colab_type": "code",
        "outputId": "582aba08-9016-45b6-bd0e-6d4703763cda",
        "colab": {
          "base_uri": "https://localhost:8080/",
          "height": 34
        }
      },
      "source": [
        "sess = tf.Session()\n",
        "sess.run(x.initializer)\n",
        "sess.run(y.initializer)\n",
        "result = sess.run(f)\n",
        "print(result)\n",
        "sess.close()"
      ],
      "execution_count": 0,
      "outputs": [
        {
          "output_type": "stream",
          "text": [
            "42\n"
          ],
          "name": "stdout"
        }
      ]
    },
    {
      "cell_type": "code",
      "metadata": {
        "id": "EXRQ27s8RZEq",
        "colab_type": "code",
        "outputId": "547417ec-0b1f-4be1-a2ed-76a3aba19335",
        "colab": {
          "base_uri": "https://localhost:8080/",
          "height": 34
        }
      },
      "source": [
        "# another way/ session automatically closed when 'with' block finish\n",
        "\n",
        "with tf.Session() as sess:\n",
        "  x.initializer.run()\n",
        "  y.initializer.run()\n",
        "  result = f.eval()\n",
        "print(result)"
      ],
      "execution_count": 0,
      "outputs": [
        {
          "output_type": "stream",
          "text": [
            "42\n"
          ],
          "name": "stdout"
        }
      ]
    },
    {
      "cell_type": "code",
      "metadata": {
        "id": "RozYEHg3STVe",
        "colab_type": "code",
        "outputId": "892417e9-5231-454d-bfea-2d6080c70cd3",
        "colab": {
          "base_uri": "https://localhost:8080/",
          "height": 34
        }
      },
      "source": [
        "# another way 2/ function creates nodes to initialize all variables when calculation graph is executed\n",
        "\n",
        "init = tf.global_variables_initializer() # prepare init nodes\n",
        "\n",
        "with tf.Session() as sess:\n",
        "  init.run()\n",
        "  result = f.eval()\n",
        "print(result)"
      ],
      "execution_count": 0,
      "outputs": [
        {
          "output_type": "stream",
          "text": [
            "42\n"
          ],
          "name": "stdout"
        }
      ]
    },
    {
      "cell_type": "code",
      "metadata": {
        "id": "LVoDoyhoS-pH",
        "colab_type": "code",
        "outputId": "d219b166-9929-4aaf-aefd-08abdac6fdf2",
        "colab": {
          "base_uri": "https://localhost:8080/",
          "height": 72
        }
      },
      "source": [
        "# jupyter or python shell \n",
        "\n",
        "sess = tf.InteractiveSession()\n",
        "init.run()  # automatically designate itself as basic session\n",
        "result = f.eval()\n",
        "print(result)\n",
        "sess.close"
      ],
      "execution_count": 0,
      "outputs": [
        {
          "output_type": "stream",
          "text": [
            "42\n"
          ],
          "name": "stdout"
        },
        {
          "output_type": "execute_result",
          "data": {
            "text/plain": [
              "<bound method InteractiveSession.close of <tensorflow.python.client.session.InteractiveSession object at 0x7f395b64fcc0>>"
            ]
          },
          "metadata": {
            "tags": []
          },
          "execution_count": 16
        }
      ]
    },
    {
      "cell_type": "code",
      "metadata": {
        "id": "LkLk4rpVTtdo",
        "colab_type": "code",
        "outputId": "9df7f9e6-e6c2-4c09-a40b-c9c1ccb86638",
        "colab": {
          "base_uri": "https://localhost:8080/",
          "height": 52
        }
      },
      "source": [
        "# making independent calculation graph\n",
        "\n",
        "graph = tf.Graph()\n",
        "with graph.as_default():\n",
        "  x2 = tf.Variable(2)\n",
        "\n",
        "print(x2.graph is graph)\n",
        "print(x2.graph is tf.get_default_graph)\n",
        "\n",
        "#initailize: tf.reset_default_graph"
      ],
      "execution_count": 0,
      "outputs": [
        {
          "output_type": "stream",
          "text": [
            "True\n",
            "False\n"
          ],
          "name": "stdout"
        }
      ]
    },
    {
      "cell_type": "code",
      "metadata": {
        "id": "_a6Ma0oAUTE-",
        "colab_type": "code",
        "outputId": "e7dd432b-6fe5-4034-c831-156505c4db97",
        "colab": {
          "base_uri": "https://localhost:8080/",
          "height": 52
        }
      },
      "source": [
        "# node lifecycle\n",
        "\n",
        "w = tf.constant(3)\n",
        "x = w + 2\n",
        "y = x + 5\n",
        "z = x * 3\n",
        "\n",
        "# In this code w and x are evaluated twice to evaluate y and z\n",
        "with tf.Session() as sess:\n",
        "  print(y.eval())\n",
        "  print(z.eval())"
      ],
      "execution_count": 0,
      "outputs": [
        {
          "output_type": "stream",
          "text": [
            "10\n",
            "15\n"
          ],
          "name": "stdout"
        }
      ]
    },
    {
      "cell_type": "code",
      "metadata": {
        "id": "nIl0GDIPVgq7",
        "colab_type": "code",
        "outputId": "935de8bc-db30-426b-c8bd-cb7bf2de1ecc",
        "colab": {
          "base_uri": "https://localhost:8080/",
          "height": 52
        }
      },
      "source": [
        "# w and x are evaluated once in this code\n",
        "\n",
        "with tf.Session() as sess:\n",
        "  y_val, z_val = sess.run([y,z])\n",
        "  print(y_val)\n",
        "  print(z_val)"
      ],
      "execution_count": 0,
      "outputs": [
        {
          "output_type": "stream",
          "text": [
            "10\n",
            "15\n"
          ],
          "name": "stdout"
        }
      ]
    },
    {
      "cell_type": "code",
      "metadata": {
        "id": "h9hidwEjVr-z",
        "colab_type": "code",
        "outputId": "4a82815a-ec5c-4367-f8ec-61b7e7b0c26b",
        "colab": {
          "base_uri": "https://localhost:8080/",
          "height": 175
        }
      },
      "source": [
        "# tensor calculation\n",
        "\n",
        "import numpy as np\n",
        "from sklearn.datasets import fetch_california_housing\n",
        "\n",
        "housing = fetch_california_housing()\n",
        "m, n = housing.data.shape\n",
        "housing_data_plus_bias = np.c_[np.ones((m,1)),housing.data]\n",
        "\n",
        "X = tf.constant(housing_data_plus_bias, dtype=tf.float32, name='X')\n",
        "y = tf.constant(housing.target.reshape(-1,1), dtype=tf.float32, name='y')\n",
        "XT = tf.transpose(X)\n",
        "theta = tf.matmul(tf.matmul(tf.matrix_inverse(tf.matmul(XT,X)),XT),y)\n",
        "\n",
        "with tf.Session() as sess:\n",
        "  theta_value = theta.eval()\n",
        "\n",
        "theta_value"
      ],
      "execution_count": 0,
      "outputs": [
        {
          "output_type": "execute_result",
          "data": {
            "text/plain": [
              "array([[-3.67372932e+01],\n",
              "       [ 4.37366009e-01],\n",
              "       [ 9.47520509e-03],\n",
              "       [-1.08159676e-01],\n",
              "       [ 6.48537397e-01],\n",
              "       [-3.84734449e-06],\n",
              "       [-3.79239232e-03],\n",
              "       [-4.19136107e-01],\n",
              "       [-4.32144403e-01]], dtype=float32)"
            ]
          },
          "metadata": {
            "tags": []
          },
          "execution_count": 64
        }
      ]
    },
    {
      "cell_type": "code",
      "metadata": {
        "colab_type": "code",
        "outputId": "306208a7-bb4f-4e8a-fbc2-586ac61babd6",
        "id": "1cbzOZ8yxoLZ",
        "colab": {
          "base_uri": "https://localhost:8080/",
          "height": 193
        }
      },
      "source": [
        "# direct gradient calculation\n",
        "\n",
        "tf.reset_default_graph()\n",
        "\n",
        "n_epochs = 1000\n",
        "learning_rate = 0.01\n",
        "\n",
        "from sklearn.preprocessing import StandardScaler\n",
        "\n",
        "scaler = StandardScaler()\n",
        "scaled_housing_data = scaler.fit_transform(housing.data)\n",
        "scaled_housing_data_bias = np.c_[np.ones((m,1)),scaled_housing_data]\n",
        "\n",
        "X = tf.constant(scaled_housing_data_bias, dtype=tf.float32, name='X')\n",
        "y = tf.constant(housing.target.reshape(-1,1), dtype=tf.float32, name='y')\n",
        "theta = tf.Variable(tf.random_uniform([n+1,1],-1.0,1.0,seed=42),name='theta')\n",
        "y_pred = tf.matmul(X, theta, name='predictions')\n",
        "error = y_pred - y\n",
        "mse = tf.reduce_mean(tf.square(error),name='mse')\n",
        "\n",
        "\n",
        "gradient_mse = 2/m * tf.matmul(tf.transpose(X),error)\n",
        "# gradient_mse_auto = tf.gradients(mse,[theta])[0]\n",
        "training = tf.assign(theta, theta - learning_rate*gradient_mse)\n",
        "\n",
        "# other method using optimizer\n",
        "# optimizer = tf.train.GradientDescentOptimizer(learning_rate=learning_rate)\n",
        "# training = optimizer.minimize(mse)\n",
        "\n",
        "\n",
        "\n",
        "init = tf.global_variables_initializer()\n",
        "\n",
        "with tf.Session() as sess:\n",
        "  sess.run(init)\n",
        "\n",
        "  for epoch in range(n_epochs):\n",
        "    if epoch%100 == 0:\n",
        "      print('Epoch',epoch,'MSE:',mse.eval())\n",
        "    sess.run(training)\n",
        "\n",
        "  best_theta = theta.eval()"
      ],
      "execution_count": 0,
      "outputs": [
        {
          "output_type": "stream",
          "text": [
            "Epoch 0 MSE: 2.754427\n",
            "Epoch 100 MSE: 0.63222194\n",
            "Epoch 200 MSE: 0.5727803\n",
            "Epoch 300 MSE: 0.5585009\n",
            "Epoch 400 MSE: 0.54907006\n",
            "Epoch 500 MSE: 0.54228806\n",
            "Epoch 600 MSE: 0.5373791\n",
            "Epoch 700 MSE: 0.533822\n",
            "Epoch 800 MSE: 0.53124255\n",
            "Epoch 900 MSE: 0.5293705\n"
          ],
          "name": "stdout"
        }
      ]
    },
    {
      "cell_type": "code",
      "metadata": {
        "id": "rB-3lClEbR7_",
        "colab_type": "code",
        "colab": {}
      },
      "source": [
        "# mini batch \n",
        "\n",
        "tf.reset_default_graph()\n",
        "\n",
        "\n",
        "n_epochs = 1000\n",
        "learning_rate = 0.01\n",
        "\n",
        "X = tf.placeholder(tf.float32,shape=(None,n+1),name='X')\n",
        "y = tf.placeholder(tf.float32, shape=(None,1),name='y')\n",
        "\n",
        "theta = tf.Variable(tf.random_uniform([n+1,1],-1.,1.,seed=42),name='theta')\n",
        "y_pred = tf.matmul(X,theta,name='predictions')\n",
        "error = y_pred - y\n",
        "mse = tf.reduce_mean(tf.square(error),name='mse')\n",
        "optimizer = tf.train.GradientDescentOptimizer(learning_rate=learning_rate)\n",
        "training = optimizer.minimize(mse)\n",
        "\n",
        "init = tf.global_variables_initializer()\n",
        "\n",
        "n_epochs = 10\n",
        "batch_size = 100\n",
        "n_batches = int(np.ceil(m / batch_size))\n",
        "\n",
        "def fetch_batch(epoch, batch_index, batch_size):\n",
        "  np.random.seed(epoch*n_batches + batch_index)\n",
        "  indices = np.random.randint(m, size=batch_size)\n",
        "  X_batch = scaled_housing_data_bias[indices]\n",
        "  y_batch = housing.target.reshape(-1,1)[indices]\n",
        "  return X_batch, y_batch\n",
        "\n",
        "with tf.Session() as sess:\n",
        "  sess.run(init)\n",
        "\n",
        "  for epoch in range(n_epochs):\n",
        "    for batch_index in range(n_batches):\n",
        "      X_batch, y_batch = fetch_batch(epoch,batch_index,batch_size)\n",
        "      sess.run(training, feed_dict={X:X_batch,y:y_batch})\n",
        "\n",
        "    best_theta = theta.eval()\n",
        "\n"
      ],
      "execution_count": 0,
      "outputs": []
    },
    {
      "cell_type": "code",
      "metadata": {
        "id": "Eog61hBontfA",
        "colab_type": "code",
        "outputId": "3f45476c-a06a-457e-d7cb-0457d2a14c93",
        "colab": {
          "base_uri": "https://localhost:8080/",
          "height": 175
        }
      },
      "source": [
        "best_theta"
      ],
      "execution_count": 0,
      "outputs": [
        {
          "output_type": "execute_result",
          "data": {
            "text/plain": [
              "array([[ 2.0714476 ],\n",
              "       [ 0.84620124],\n",
              "       [ 0.11558538],\n",
              "       [-0.26835838],\n",
              "       [ 0.32982785],\n",
              "       [ 0.00608358],\n",
              "       [ 0.07052906],\n",
              "       [-0.87988573],\n",
              "       [-0.8634251 ]], dtype=float32)"
            ]
          },
          "metadata": {
            "tags": []
          },
          "execution_count": 43
        }
      ]
    },
    {
      "cell_type": "code",
      "metadata": {
        "id": "5dWfFXZYo3Kr",
        "colab_type": "code",
        "colab": {}
      },
      "source": [
        "# model saving\n",
        "import os\n",
        "save_dir = os.path.dirname('C:/Users/User/ML')\n",
        "tf.reset_default_graph()\n",
        "\n",
        "\n",
        "n_epochs = 1000\n",
        "learning_rate = 0.01\n",
        "\n",
        "X = tf.constant(scaled_housing_data_bias, dtype=tf.float32, name='X')\n",
        "y = tf.constant(housing.target.reshape(-1,1), dtype=tf.float32, name='y')\n",
        "theta = tf.Variable(tf.random_uniform([n+1,1],-1.0,1.0,seed=42),name='theta')\n",
        "y_pred = tf.matmul(X, theta, name='predictions')\n",
        "error = y_pred - y\n",
        "mse = tf.reduce_mean(tf.square(error),name='mse')\n",
        "optimizer = tf.train.GradientDescentOptimizer(learning_rate=learning_rate)\n",
        "training = optimizer.minimize(mse)\n",
        "\n",
        "init = tf.global_variables_initializer()\n",
        "saver = tf.train.Saver()\n",
        "\n",
        "with tf.Session() as sess:\n",
        "  sess.run(init)\n",
        "  for epoch in range(n_epochs):\n",
        "    sess.run(training)\n",
        "\n",
        "  best_theta = theta.eval()\n",
        "  save_model = saver.save(sess,'./model.ckpt') # colab directory"
      ],
      "execution_count": 0,
      "outputs": []
    },
    {
      "cell_type": "code",
      "metadata": {
        "id": "oonJTF6RuslX",
        "colab_type": "code",
        "colab": {}
      },
      "source": [
        "# initailize\n",
        "\n",
        "from sklearn.preprocessing import StandardScaler\n",
        "\n",
        "scaler = StandardScaler()\n",
        "scaled_housing_data = scaler.fit_transform(housing.data)\n",
        "scaled_housing_data_bias = np.c_[np.ones((m,1)),scaled_housing_data]"
      ],
      "execution_count": 0,
      "outputs": []
    },
    {
      "cell_type": "code",
      "metadata": {
        "id": "tRJQhH1Pxsug",
        "colab_type": "code",
        "outputId": "0c6b7ab0-25b0-4120-f3f0-3b95af9be75d",
        "colab": {
          "base_uri": "https://localhost:8080/",
          "height": 34
        }
      },
      "source": [
        "# model restoration\n",
        "\n",
        "saver = tf.train.Saver()\n",
        "with tf.Session() as sess:\n",
        "  saver.restore(sess,'./model.ckpt')\n",
        "  best_theta_restored = theta.eval()"
      ],
      "execution_count": 0,
      "outputs": [
        {
          "output_type": "stream",
          "text": [
            "INFO:tensorflow:Restoring parameters from ./model.ckpt\n"
          ],
          "name": "stdout"
        }
      ]
    },
    {
      "cell_type": "code",
      "metadata": {
        "id": "PLaKb4xfyNQ6",
        "colab_type": "code",
        "outputId": "3eb4394d-0cca-4936-be13-80ea10a798df",
        "colab": {
          "base_uri": "https://localhost:8080/",
          "height": 175
        }
      },
      "source": [
        "best_theta_restored"
      ],
      "execution_count": 0,
      "outputs": [
        {
          "output_type": "execute_result",
          "data": {
            "text/plain": [
              "array([[-3.67372932e+01],\n",
              "       [ 4.37366009e-01],\n",
              "       [ 9.47520509e-03],\n",
              "       [-1.08159676e-01],\n",
              "       [ 6.48537397e-01],\n",
              "       [-3.84734449e-06],\n",
              "       [-3.79239232e-03],\n",
              "       [-4.19136107e-01],\n",
              "       [-4.32144403e-01]], dtype=float32)"
            ]
          },
          "metadata": {
            "tags": []
          },
          "execution_count": 68
        }
      ]
    },
    {
      "cell_type": "code",
      "metadata": {
        "id": "fBegX1Q7ytN5",
        "colab_type": "code",
        "outputId": "3a6000a7-560f-4a2f-d930-bf466c6596b8",
        "colab": {
          "base_uri": "https://localhost:8080/",
          "height": 34
        }
      },
      "source": [
        "# If wanna save only theta variable\n",
        "saver = tf.train.Saver({'weights': theta})\n",
        "\n",
        "\n",
        "\n",
        "\n",
        "# graph restoration\n",
        "\n",
        "saver = tf.train.import_meta_graph('./model.ckpt.meta')\n",
        "with tf.Session() as sess:\n",
        "  saver.restore(sess,'./model.ckpt')\n"
      ],
      "execution_count": 0,
      "outputs": [
        {
          "output_type": "stream",
          "text": [
            "INFO:tensorflow:Restoring parameters from ./model.ckpt\n"
          ],
          "name": "stdout"
        }
      ]
    },
    {
      "cell_type": "code",
      "metadata": {
        "id": "JBXZdfrwzn2I",
        "colab_type": "code",
        "colab": {}
      },
      "source": [
        "### visualization ###\n",
        "\n",
        "tf.reset_default_graph()\n",
        "# make time stamp\n",
        "from datetime import datetime\n",
        "\n",
        "now = datetime.utcnow().strftime('%Y%m%d%H%M%S')\n",
        "root_logdir = 'tf_logs'\n",
        "logdir = '{}/run-{}/'.format(root_logdir, now)\n",
        "\n",
        "# training graph\n",
        "n_epochs = 1000\n",
        "learning_rate = 0.01\n",
        "\n",
        "X = tf.placeholder(tf.float32, shape=(None, n + 1), name=\"X\")\n",
        "y = tf.placeholder(tf.float32, shape=(None, 1), name=\"y\")\n",
        "theta = tf.Variable(tf.random_uniform([n + 1, 1], -1.0, 1.0, seed=42), name=\"theta\")\n",
        "y_pred = tf.matmul(X, theta, name=\"predictions\")\n",
        "with tf.name_scope('loss') as scope:\n",
        "  error = y_pred - y\n",
        "  mse = tf.reduce_mean(tf.square(error), name=\"mse\")\n",
        "optimizer = tf.train.GradientDescentOptimizer(learning_rate=learning_rate)\n",
        "training_op = optimizer.minimize(mse)\n",
        "\n",
        "init = tf.global_variables_initializer()\n",
        "\n",
        "\n",
        "# summary add\n",
        "mse_summary = tf.summary.scalar('MSE',mse)\n",
        "file_writer = tf.summary.FileWriter(logdir, tf.get_default_graph()) \n",
        "\n",
        "n_epochs = 10\n",
        "batch_size = 100\n",
        "n_batches = int(np.ceil(m / batch_size))\n",
        "\n",
        "with tf.Session() as sess:\n",
        "  sess.run(init)\n",
        "\n",
        "  for epoch in range(n_epochs):\n",
        "    for batch_index in range(n_batches):\n",
        "      X_batch, y_batch = fetch_batch(epoch, batch_index, batch_size)\n",
        "      if batch_index % 10 == 0:\n",
        "        summary_str = mse_summary.eval(feed_dict={X:X_batch,y:y_batch})\n",
        "        step = epoch* n_batches + batch_index\n",
        "        file_writer.add_summary(summary_str, step)\n",
        "      sess.run(training_op, feed_dict={X:X_batch,y:y_batch})\n",
        "    \n",
        "    \n",
        "  \n",
        "  best_theta = theta.eval()\n"
      ],
      "execution_count": 0,
      "outputs": []
    },
    {
      "cell_type": "code",
      "metadata": {
        "id": "QcONEEem3K2G",
        "colab_type": "code",
        "colab": {}
      },
      "source": [
        "file_writer.close()"
      ],
      "execution_count": 0,
      "outputs": []
    },
    {
      "cell_type": "code",
      "metadata": {
        "id": "tE9MQaI13jZr",
        "colab_type": "code",
        "outputId": "6d187fd0-b8bb-4ea8-b29f-2ea1ce08d366",
        "colab": {
          "base_uri": "https://localhost:8080/",
          "height": 175
        }
      },
      "source": [
        "best_theta"
      ],
      "execution_count": 0,
      "outputs": [
        {
          "output_type": "execute_result",
          "data": {
            "text/plain": [
              "array([[ 2.070016  ],\n",
              "       [ 0.8204561 ],\n",
              "       [ 0.11731729],\n",
              "       [-0.22739056],\n",
              "       [ 0.31134024],\n",
              "       [ 0.00353192],\n",
              "       [-0.01126995],\n",
              "       [-0.9164395 ],\n",
              "       [-0.8795009 ]], dtype=float32)"
            ]
          },
          "metadata": {
            "tags": []
          },
          "execution_count": 85
        }
      ]
    },
    {
      "cell_type": "markdown",
      "metadata": {
        "id": "R6kOZpW06Tnt",
        "colab_type": "text"
      },
      "source": [
        "check contents of log directory"
      ]
    },
    {
      "cell_type": "code",
      "metadata": {
        "id": "xsGsRqhT4dZJ",
        "colab_type": "code",
        "colab": {}
      },
      "source": [
        "### In vertualenv\n",
        "! cd /content\n",
        "! ls -l tf_logs/run*\n",
        "! ls -l tf_logs/\n",
        "! source env/bin/activate\n",
        "! tensorboard --logdir tf_logs/"
      ],
      "execution_count": 0,
      "outputs": []
    },
    {
      "cell_type": "code",
      "metadata": {
        "id": "FoKljOLR699U",
        "colab_type": "code",
        "colab": {}
      },
      "source": [
        "### In CoLab use ngrok\n",
        "\n",
        "!wget https://bin.equinox.io/c/4VmDzA7iaHb/ngrok-stable-linux-amd64.zip\n",
        "!unzip ngrok-stable-linux-amd64.zip"
      ],
      "execution_count": 0,
      "outputs": []
    },
    {
      "cell_type": "code",
      "metadata": {
        "id": "tvLs-ysk71lb",
        "colab_type": "code",
        "colab": {}
      },
      "source": [
        "LOG_DIR = '/content/tf_logs/run-20200131051832'\n",
        "get_ipython().system_raw(\n",
        "    'tensorboard --logdir {} --host 0.0.0.0 --port 6006 &'\n",
        "    .format(LOG_DIR)\n",
        ")\n",
        "get_ipython().system_raw('./ngrok http 6006 &')\n",
        "! curl -s http://localhost:4040/api/tunnels | python3 -c \\\n",
        "    \"import sys, json; print(json.load(sys.stdin)['tunnels'][0]['public_url'])\""
      ],
      "execution_count": 0,
      "outputs": []
    },
    {
      "cell_type": "code",
      "metadata": {
        "id": "BwR8K_xkA7Qw",
        "colab_type": "code",
        "colab": {}
      },
      "source": [
        "tf.reset_default_graph()"
      ],
      "execution_count": 0,
      "outputs": []
    },
    {
      "cell_type": "code",
      "metadata": {
        "id": "ZMWUo1PTnS7i",
        "colab_type": "code",
        "colab": {}
      },
      "source": [
        "from __future__ import absolute_import, division, print_function, unicode_literals\n",
        "\n",
        "# This module defines the show_graph() function to visualize a TensorFlow graph within Jupyter.\n",
        "\n",
        "# As far as I can tell, this code was originally written by Alex Mordvintsev at:\n",
        "# https://github.com/tensorflow/tensorflow/blob/master/tensorflow/examples/tutorials/deepdream/deepdream.ipynb\n",
        "\n",
        "# The original code only worked on Chrome (because of the use of <link rel=\"import\"...>, but the version below\n",
        "# uses Polyfill (copied from this StackOverflow answer: https://stackoverflow.com/a/41463991/38626)\n",
        "# so that it can work on other browsers as well.\n",
        "\n",
        "import numpy as np\n",
        "import tensorflow as tf\n",
        "from IPython.display import clear_output, Image, display, HTML\n",
        "\n",
        "def strip_consts(graph_def, max_const_size=32):\n",
        "    \"\"\"Strip large constant values from graph_def.\"\"\"\n",
        "    strip_def = tf.GraphDef()\n",
        "    for n0 in graph_def.node:\n",
        "        n = strip_def.node.add() \n",
        "        n.MergeFrom(n0)\n",
        "        if n.op == 'Const':\n",
        "            tensor = n.attr['value'].tensor\n",
        "            size = len(tensor.tensor_content)\n",
        "            if size > max_const_size:\n",
        "                tensor.tensor_content = b\"<stripped %d bytes>\"%size\n",
        "    return strip_def\n",
        "\n",
        "def show_graph(graph_def, max_const_size=32):\n",
        "    \"\"\"Visualize TensorFlow graph.\"\"\"\n",
        "    if hasattr(graph_def, 'as_graph_def'):\n",
        "        graph_def = graph_def.as_graph_def()\n",
        "    strip_def = strip_consts(graph_def, max_const_size=max_const_size)\n",
        "    code = \"\"\"\n",
        "        <script src=\"//cdnjs.cloudflare.com/ajax/libs/polymer/0.3.3/platform.js\"></script>\n",
        "        <script>\n",
        "          function load() {{\n",
        "            document.getElementById(\"{id}\").pbtxt = {data};\n",
        "          }}\n",
        "        </script>\n",
        "        <link rel=\"import\" href=\"https://tensorboard.appspot.com/tf-graph-basic.build.html\" onload=load()>\n",
        "        <div style=\"height:600px\">\n",
        "          <tf-graph-basic id=\"{id}\"></tf-graph-basic>\n",
        "        </div>\n",
        "    \"\"\".format(data=repr(str(strip_def)), id='graph'+str(np.random.rand()))\n",
        "\n",
        "    iframe = \"\"\"\n",
        "        <iframe seamless style=\"width:1200px;height:620px;border:0\" srcdoc=\"{}\"></iframe>\n",
        "    \"\"\".format(code.replace('\"', '&quot;'))\n",
        "    display(HTML(iframe))"
      ],
      "execution_count": 0,
      "outputs": []
    },
    {
      "cell_type": "code",
      "metadata": {
        "id": "Wb9GzeWhn1R6",
        "colab_type": "code",
        "colab": {}
      },
      "source": [
        "def relu(X):\n",
        "    with tf.name_scope(\"relu\"):\n",
        "        if not hasattr(relu, \"threshold\"):\n",
        "            relu.threshold = tf.Variable(0.0, name=\"threshold\")\n",
        "        w_shape = int(X.get_shape()[1]), 1                          \n",
        "        w = tf.Variable(tf.random_normal(w_shape), name=\"weights\")  \n",
        "        b = tf.Variable(0.0, name=\"bias\")                           \n",
        "        z = tf.add(tf.matmul(X, w), b, name=\"z\")                    \n",
        "        return tf.maximum(z, relu.threshold, name=\"max\")"
      ],
      "execution_count": 0,
      "outputs": []
    },
    {
      "cell_type": "code",
      "metadata": {
        "id": "6FHUhVkioGrv",
        "colab_type": "code",
        "colab": {}
      },
      "source": [
        "n_features=3\n",
        "X = tf.placeholder(tf.float32, shape=(None,n_features),name='X')\n",
        "relus = [relu(X) for i in range(5)]\n",
        "output = tf.add_n(relus,name='output')"
      ],
      "execution_count": 0,
      "outputs": []
    },
    {
      "cell_type": "code",
      "metadata": {
        "id": "oorjsqTcoToc",
        "colab_type": "code",
        "colab": {}
      },
      "source": [
        "show_graph(tf.get_default_graph())"
      ],
      "execution_count": 0,
      "outputs": []
    },
    {
      "cell_type": "code",
      "metadata": {
        "id": "UDrtrXEAocSL",
        "colab_type": "code",
        "colab": {}
      },
      "source": [
        "tf.reset_default_graph()\n",
        "\n",
        "with tf.variable_scope('relu'):\n",
        "  threshold = tf.get_variable('threshold',shape=(),\n",
        "                              initializer=tf.constant_initializer(0.0))\n",
        "  "
      ],
      "execution_count": 0,
      "outputs": []
    },
    {
      "cell_type": "code",
      "metadata": {
        "id": "rmXL6n9gp7Ak",
        "colab_type": "code",
        "colab": {}
      },
      "source": [
        "tf.reset_default_graph()\n",
        "\n",
        "def relu(X):\n",
        "  with tf.variable_scope('relu', reuse=True):\n",
        "    threshold = tf.get_variable('threshold')\n",
        "    w_shape = int(X.get_shape()[1]),1\n",
        "    w = tf.Variable(tf.random_normal(w_shape),name='weights')\n",
        "    b = tf.Variable(0.0, name='bias')\n",
        "    z = tf.add(tf.matmul(X,w),b,name='z')\n",
        "    return tf.maximum(z, threshold,name='max')\n",
        "\n",
        "n_features = 3\n",
        "X = tf.placeholder(tf.float32, shape=(None,n_features),name='X')\n",
        "with tf.variable_scope('relu'):\n",
        "  threshold = tf.get_variable('threshold', shape=(),\n",
        "                              initializer=tf.constant_initializer(0.0))\n",
        "relus = [relu(X) for relu_index in range(5)]\n",
        "output = tf.add_n(relus, name='output')"
      ],
      "execution_count": 0,
      "outputs": []
    },
    {
      "cell_type": "code",
      "metadata": {
        "id": "i-K-cncWrNew",
        "colab_type": "code",
        "colab": {}
      },
      "source": [
        "show_graph(tf.get_default_graph())"
      ],
      "execution_count": 0,
      "outputs": []
    },
    {
      "cell_type": "code",
      "metadata": {
        "id": "XRW0hbD_rjb9",
        "colab_type": "code",
        "colab": {}
      },
      "source": [
        ""
      ],
      "execution_count": 0,
      "outputs": []
    }
  ]
}