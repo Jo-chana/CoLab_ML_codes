{
  "nbformat": 4,
  "nbformat_minor": 0,
  "metadata": {
    "colab": {
      "name": "Avocado.ipynb",
      "provenance": [],
      "collapsed_sections": [],
      "mount_file_id": "1l1D9zYocoo_FEl5y8UgTcxvujwAgti7D",
      "authorship_tag": "ABX9TyPPf/zJ4CKo/HnlqeppVLFU",
      "include_colab_link": true
    },
    "kernelspec": {
      "name": "python3",
      "display_name": "Python 3"
    },
    "accelerator": "GPU"
  },
  "cells": [
    {
      "cell_type": "markdown",
      "metadata": {
        "id": "view-in-github",
        "colab_type": "text"
      },
      "source": [
        "<a href=\"https://colab.research.google.com/github/Jo-chana/CoLab_ML_codes/blob/master/Avocado.ipynb\" target=\"_parent\"><img src=\"https://colab.research.google.com/assets/colab-badge.svg\" alt=\"Open In Colab\"/></a>"
      ]
    },
    {
      "cell_type": "code",
      "metadata": {
        "id": "h480LT9-k6V2",
        "colab_type": "code",
        "colab": {}
      },
      "source": [
        "%tensorflow_version 1.x"
      ],
      "execution_count": 0,
      "outputs": []
    },
    {
      "cell_type": "code",
      "metadata": {
        "id": "0wcl3zvCnk4c",
        "colab_type": "code",
        "colab": {}
      },
      "source": [
        "import pandas as pd\n",
        "\n",
        "url = 'drive/My Drive/datasets/avocado.csv'\n",
        "avocado_prices = pd.read_csv(url)"
      ],
      "execution_count": 0,
      "outputs": []
    },
    {
      "cell_type": "code",
      "metadata": {
        "id": "04eh7lIeq58S",
        "colab_type": "code",
        "outputId": "d0332dbd-e5ca-4e10-f342-daf51636239d",
        "colab": {
          "base_uri": "https://localhost:8080/",
          "height": 34
        }
      },
      "source": [
        "import numpy as np\n",
        "np.shape(avocado_prices)"
      ],
      "execution_count": 4,
      "outputs": [
        {
          "output_type": "execute_result",
          "data": {
            "text/plain": [
              "(18249, 14)"
            ]
          },
          "metadata": {
            "tags": []
          },
          "execution_count": 4
        }
      ]
    },
    {
      "cell_type": "code",
      "metadata": {
        "id": "RogVRGiX5p7g",
        "colab_type": "code",
        "colab": {}
      },
      "source": [
        "avocado = np.array(avocado_prices)"
      ],
      "execution_count": 0,
      "outputs": []
    },
    {
      "cell_type": "code",
      "metadata": {
        "id": "4lqlL9jz6ILY",
        "colab_type": "code",
        "colab": {
          "base_uri": "https://localhost:8080/",
          "height": 321
        },
        "outputId": "9757ee6d-ea27-4acd-a409-69e188709419"
      },
      "source": [
        "avocado_prices.describe()"
      ],
      "execution_count": 9,
      "outputs": [
        {
          "output_type": "execute_result",
          "data": {
            "text/html": [
              "<div>\n",
              "<style scoped>\n",
              "    .dataframe tbody tr th:only-of-type {\n",
              "        vertical-align: middle;\n",
              "    }\n",
              "\n",
              "    .dataframe tbody tr th {\n",
              "        vertical-align: top;\n",
              "    }\n",
              "\n",
              "    .dataframe thead th {\n",
              "        text-align: right;\n",
              "    }\n",
              "</style>\n",
              "<table border=\"1\" class=\"dataframe\">\n",
              "  <thead>\n",
              "    <tr style=\"text-align: right;\">\n",
              "      <th></th>\n",
              "      <th>Unnamed: 0</th>\n",
              "      <th>AveragePrice</th>\n",
              "      <th>Total Volume</th>\n",
              "      <th>4046</th>\n",
              "      <th>4225</th>\n",
              "      <th>4770</th>\n",
              "      <th>Total Bags</th>\n",
              "      <th>Small Bags</th>\n",
              "      <th>Large Bags</th>\n",
              "      <th>XLarge Bags</th>\n",
              "      <th>year</th>\n",
              "    </tr>\n",
              "  </thead>\n",
              "  <tbody>\n",
              "    <tr>\n",
              "      <th>count</th>\n",
              "      <td>18249.000000</td>\n",
              "      <td>18249.000000</td>\n",
              "      <td>1.824900e+04</td>\n",
              "      <td>1.824900e+04</td>\n",
              "      <td>1.824900e+04</td>\n",
              "      <td>1.824900e+04</td>\n",
              "      <td>1.824900e+04</td>\n",
              "      <td>1.824900e+04</td>\n",
              "      <td>1.824900e+04</td>\n",
              "      <td>18249.000000</td>\n",
              "      <td>18249.000000</td>\n",
              "    </tr>\n",
              "    <tr>\n",
              "      <th>mean</th>\n",
              "      <td>24.232232</td>\n",
              "      <td>1.405978</td>\n",
              "      <td>8.506440e+05</td>\n",
              "      <td>2.930084e+05</td>\n",
              "      <td>2.951546e+05</td>\n",
              "      <td>2.283974e+04</td>\n",
              "      <td>2.396392e+05</td>\n",
              "      <td>1.821947e+05</td>\n",
              "      <td>5.433809e+04</td>\n",
              "      <td>3106.426507</td>\n",
              "      <td>2016.147899</td>\n",
              "    </tr>\n",
              "    <tr>\n",
              "      <th>std</th>\n",
              "      <td>15.481045</td>\n",
              "      <td>0.402677</td>\n",
              "      <td>3.453545e+06</td>\n",
              "      <td>1.264989e+06</td>\n",
              "      <td>1.204120e+06</td>\n",
              "      <td>1.074641e+05</td>\n",
              "      <td>9.862424e+05</td>\n",
              "      <td>7.461785e+05</td>\n",
              "      <td>2.439660e+05</td>\n",
              "      <td>17692.894652</td>\n",
              "      <td>0.939938</td>\n",
              "    </tr>\n",
              "    <tr>\n",
              "      <th>min</th>\n",
              "      <td>0.000000</td>\n",
              "      <td>0.440000</td>\n",
              "      <td>8.456000e+01</td>\n",
              "      <td>0.000000e+00</td>\n",
              "      <td>0.000000e+00</td>\n",
              "      <td>0.000000e+00</td>\n",
              "      <td>0.000000e+00</td>\n",
              "      <td>0.000000e+00</td>\n",
              "      <td>0.000000e+00</td>\n",
              "      <td>0.000000</td>\n",
              "      <td>2015.000000</td>\n",
              "    </tr>\n",
              "    <tr>\n",
              "      <th>25%</th>\n",
              "      <td>10.000000</td>\n",
              "      <td>1.100000</td>\n",
              "      <td>1.083858e+04</td>\n",
              "      <td>8.540700e+02</td>\n",
              "      <td>3.008780e+03</td>\n",
              "      <td>0.000000e+00</td>\n",
              "      <td>5.088640e+03</td>\n",
              "      <td>2.849420e+03</td>\n",
              "      <td>1.274700e+02</td>\n",
              "      <td>0.000000</td>\n",
              "      <td>2015.000000</td>\n",
              "    </tr>\n",
              "    <tr>\n",
              "      <th>50%</th>\n",
              "      <td>24.000000</td>\n",
              "      <td>1.370000</td>\n",
              "      <td>1.073768e+05</td>\n",
              "      <td>8.645300e+03</td>\n",
              "      <td>2.906102e+04</td>\n",
              "      <td>1.849900e+02</td>\n",
              "      <td>3.974383e+04</td>\n",
              "      <td>2.636282e+04</td>\n",
              "      <td>2.647710e+03</td>\n",
              "      <td>0.000000</td>\n",
              "      <td>2016.000000</td>\n",
              "    </tr>\n",
              "    <tr>\n",
              "      <th>75%</th>\n",
              "      <td>38.000000</td>\n",
              "      <td>1.660000</td>\n",
              "      <td>4.329623e+05</td>\n",
              "      <td>1.110202e+05</td>\n",
              "      <td>1.502069e+05</td>\n",
              "      <td>6.243420e+03</td>\n",
              "      <td>1.107834e+05</td>\n",
              "      <td>8.333767e+04</td>\n",
              "      <td>2.202925e+04</td>\n",
              "      <td>132.500000</td>\n",
              "      <td>2017.000000</td>\n",
              "    </tr>\n",
              "    <tr>\n",
              "      <th>max</th>\n",
              "      <td>52.000000</td>\n",
              "      <td>3.250000</td>\n",
              "      <td>6.250565e+07</td>\n",
              "      <td>2.274362e+07</td>\n",
              "      <td>2.047057e+07</td>\n",
              "      <td>2.546439e+06</td>\n",
              "      <td>1.937313e+07</td>\n",
              "      <td>1.338459e+07</td>\n",
              "      <td>5.719097e+06</td>\n",
              "      <td>551693.650000</td>\n",
              "      <td>2018.000000</td>\n",
              "    </tr>\n",
              "  </tbody>\n",
              "</table>\n",
              "</div>"
            ],
            "text/plain": [
              "         Unnamed: 0  AveragePrice  ...    XLarge Bags          year\n",
              "count  18249.000000  18249.000000  ...   18249.000000  18249.000000\n",
              "mean      24.232232      1.405978  ...    3106.426507   2016.147899\n",
              "std       15.481045      0.402677  ...   17692.894652      0.939938\n",
              "min        0.000000      0.440000  ...       0.000000   2015.000000\n",
              "25%       10.000000      1.100000  ...       0.000000   2015.000000\n",
              "50%       24.000000      1.370000  ...       0.000000   2016.000000\n",
              "75%       38.000000      1.660000  ...     132.500000   2017.000000\n",
              "max       52.000000      3.250000  ...  551693.650000   2018.000000\n",
              "\n",
              "[8 rows x 11 columns]"
            ]
          },
          "metadata": {
            "tags": []
          },
          "execution_count": 9
        }
      ]
    },
    {
      "cell_type": "code",
      "metadata": {
        "id": "RsFHhmzlSg42",
        "colab_type": "code",
        "colab": {}
      },
      "source": [
        ""
      ],
      "execution_count": 0,
      "outputs": []
    },
    {
      "cell_type": "code",
      "metadata": {
        "id": "Iub1Pg0D5yZk",
        "colab_type": "code",
        "colab": {}
      },
      "source": [
        "average_price = avocado[:,2:3]\n",
        "avocado_numdata = avocado[:,3:11]\n",
        "avocado_region = avocado[:,13:14]\n",
        "avocado_year = avocado[:,12:13]\n",
        "avocado_type = avocado[:,11:12]"
      ],
      "execution_count": 0,
      "outputs": []
    },
    {
      "cell_type": "code",
      "metadata": {
        "id": "8d2wbfbj6Ek0",
        "colab_type": "code",
        "colab": {}
      },
      "source": [
        "from keras import models\n",
        "from keras import layers\n",
        "from sklearn.model_selection import train_test_split\n",
        "from sklearn import utils\n",
        "from sklearn.preprocessing import MinMaxScaler\n",
        "from sklearn.externals import joblib\n",
        "\n",
        "X_train,X_test,y_train,y_test = train_test_split(avocado_numdata,average_price,test_size=0.2)\n",
        "\n",
        "network = models.Sequential()\n",
        "network.add(layers.)\n",
        "network.add(layers.Dense(32,activation='relu'))\n",
        "network.add(layers.Dense(1))\n",
        "\n",
        "network.compile(optimizer='rmsprop',\n",
        "                loss='mean_squared_error',)               \n",
        "\n",
        "network.fit(X_train,y_train,epochs=120,batch_size=128)"
      ],
      "execution_count": 0,
      "outputs": []
    },
    {
      "cell_type": "code",
      "metadata": {
        "id": "wJoksRXA6hWl",
        "colab_type": "code",
        "colab": {}
      },
      "source": [
        "y_pred = network.predict(X_test).flatten()\n",
        "\n",
        "for i in range(20):\n",
        "  print('real price:',y_test[i],'prediction:',y_pred[i])"
      ],
      "execution_count": 0,
      "outputs": []
    },
    {
      "cell_type": "code",
      "metadata": {
        "id": "mKaZQ0KeAkqb",
        "colab_type": "code",
        "colab": {}
      },
      "source": [
        ""
      ],
      "execution_count": 0,
      "outputs": []
    }
  ]
}