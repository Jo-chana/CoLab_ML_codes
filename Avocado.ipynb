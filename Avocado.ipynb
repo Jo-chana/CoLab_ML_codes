{
  "nbformat": 4,
  "nbformat_minor": 0,
  "metadata": {
    "colab": {
      "name": "Avocado.ipynb",
      "provenance": [],
      "collapsed_sections": [],
      "mount_file_id": "1l1D9zYocoo_FEl5y8UgTcxvujwAgti7D",
      "authorship_tag": "ABX9TyMCPn6AdUi1UAgBxrSkvhWg",
      "include_colab_link": true
    },
    "kernelspec": {
      "name": "python3",
      "display_name": "Python 3"
    },
    "accelerator": "GPU"
  },
  "cells": [
    {
      "cell_type": "markdown",
      "metadata": {
        "id": "view-in-github",
        "colab_type": "text"
      },
      "source": [
        "<a href=\"https://colab.research.google.com/github/Jo-chana/CoLab_ML_codes/blob/master/Avocado.ipynb\" target=\"_parent\"><img src=\"https://colab.research.google.com/assets/colab-badge.svg\" alt=\"Open In Colab\"/></a>"
      ]
    },
    {
      "cell_type": "code",
      "metadata": {
        "id": "h480LT9-k6V2",
        "colab_type": "code",
        "colab": {}
      },
      "source": [
        "%tensorflow_version 1.x"
      ],
      "execution_count": 0,
      "outputs": []
    },
    {
      "cell_type": "code",
      "metadata": {
        "id": "0wcl3zvCnk4c",
        "colab_type": "code",
        "colab": {}
      },
      "source": [
        "import pandas as pd\n",
        "\n",
        "url = 'sample_data/avocado.csv'\n",
        "avocado_prices = pd.read_csv(url)"
      ],
      "execution_count": 0,
      "outputs": []
    },
    {
      "cell_type": "code",
      "metadata": {
        "id": "04eh7lIeq58S",
        "colab_type": "code",
        "colab": {}
      },
      "source": [
        "import numpy as np\n",
        "np.shape(avocado_prices)"
      ],
      "execution_count": 0,
      "outputs": []
    },
    {
      "cell_type": "code",
      "metadata": {
        "id": "RogVRGiX5p7g",
        "colab_type": "code",
        "colab": {}
      },
      "source": [
        "avocado = np.array(avocado_prices)"
      ],
      "execution_count": 0,
      "outputs": []
    },
    {
      "cell_type": "code",
      "metadata": {
        "id": "4lqlL9jz6ILY",
        "colab_type": "code",
        "colab": {}
      },
      "source": [
        "avocado_prices"
      ],
      "execution_count": 0,
      "outputs": []
    },
    {
      "cell_type": "code",
      "metadata": {
        "id": "Iub1Pg0D5yZk",
        "colab_type": "code",
        "colab": {}
      },
      "source": [
        "average_price = avocado[:,2:3]\n",
        "avocado_numdata = avocado[:,3:11]\n",
        "avocado_region = avocado[:,13:14]\n",
        "avocado_year = avocado[:,12:13]"
      ],
      "execution_count": 0,
      "outputs": []
    },
    {
      "cell_type": "code",
      "metadata": {
        "id": "8d2wbfbj6Ek0",
        "colab_type": "code",
        "colab": {}
      },
      "source": [
        "from keras import models\n",
        "from keras import layers\n",
        "from sklearn.model_selection import train_test_split\n",
        "\n",
        "X_train,X_test,y_train,y_test = train_test_split(avocado_numdata,average_price,test_size=0.2)\n",
        "\n",
        "network = models.Sequential()\n",
        "network.add(layers.Dense(32,activation='linear',))\n",
        "network.add(layers.Dense(32,activation='relu'))\n",
        "network.add(layers.Dense(32,activation='relu'))\n",
        "network.add(layers.Dense(1))\n",
        "\n",
        "network.compile(optimizer='rmsprop',\n",
        "                loss='mean_squared_error',)               \n",
        "\n",
        "network.fit(X_train,y_train,epochs=120,batch_size=128)"
      ],
      "execution_count": 0,
      "outputs": []
    },
    {
      "cell_type": "code",
      "metadata": {
        "id": "wJoksRXA6hWl",
        "colab_type": "code",
        "colab": {}
      },
      "source": [
        "y_pred = network.predict(X_test).flatten()\n",
        "\n",
        "for i in range(20):\n",
        "  print('real price:',y_test[i],'prediction:',y_pred[i])"
      ],
      "execution_count": 0,
      "outputs": []
    },
    {
      "cell_type": "code",
      "metadata": {
        "id": "mKaZQ0KeAkqb",
        "colab_type": "code",
        "colab": {}
      },
      "source": [
        ""
      ],
      "execution_count": 0,
      "outputs": []
    }
  ]
}