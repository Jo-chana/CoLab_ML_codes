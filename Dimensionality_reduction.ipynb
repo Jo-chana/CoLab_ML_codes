{
  "nbformat": 4,
  "nbformat_minor": 0,
  "metadata": {
    "colab": {
      "name": "Dimensionality_reduction.ipynb",
      "provenance": [],
      "authorship_tag": "ABX9TyN+2gMd9SkV1kfIelA8BMRI",
      "include_colab_link": true
    },
    "kernelspec": {
      "name": "python3",
      "display_name": "Python 3"
    },
    "accelerator": "GPU"
  },
  "cells": [
    {
      "cell_type": "markdown",
      "metadata": {
        "id": "view-in-github",
        "colab_type": "text"
      },
      "source": [
        "<a href=\"https://colab.research.google.com/github/Jo-chana/CoLab_ML_codes/blob/master/Dimensionality_reduction.ipynb\" target=\"_parent\"><img src=\"https://colab.research.google.com/assets/colab-badge.svg\" alt=\"Open In Colab\"/></a>"
      ]
    },
    {
      "cell_type": "code",
      "metadata": {
        "id": "_2jL5LvvO7tD",
        "colab_type": "code",
        "colab": {}
      },
      "source": [
        "import numpy as np\n",
        "import matplotlib\n",
        "from sklearn import datasets\n",
        "from sklearn.model_selection import train_test_split\n",
        "import timeit\n",
        "from sklearn.ensemble import RandomForestClassifier"
      ],
      "execution_count": 0,
      "outputs": []
    },
    {
      "cell_type": "code",
      "metadata": {
        "id": "_FuPgjfsP8d_",
        "colab_type": "code",
        "colab": {}
      },
      "source": [
        "mnist = datasets.fetch_openml('mnist_784', version=1)\n",
        "X = mnist['data']\n",
        "y = mnist['target']\n",
        "X_train, X_test, y_train, y_test = train_test_split(X,y,train_size=60000,test_size=10000)"
      ],
      "execution_count": 0,
      "outputs": []
    },
    {
      "cell_type": "code",
      "metadata": {
        "id": "Y9h-DysxQpRU",
        "colab_type": "code",
        "colab": {
          "base_uri": "https://localhost:8080/",
          "height": 34
        },
        "outputId": "fbdf9ce5-73b8-4fbb-8027-193c741d2f79"
      },
      "source": [
        "#original datasets\n",
        "\n",
        "rdf_clf = RandomForestClassifier()\n",
        "time = timeit.default_timer\n",
        "start = time()\n",
        "rdf_clf.fit(X_train,y_train)\n",
        "stop = time()\n",
        "stop - start"
      ],
      "execution_count": 10,
      "outputs": [
        {
          "output_type": "execute_result",
          "data": {
            "text/plain": [
              "36.56190089400002"
            ]
          },
          "metadata": {
            "tags": []
          },
          "execution_count": 10
        }
      ]
    },
    {
      "cell_type": "code",
      "metadata": {
        "id": "9IcCKrmBRxxY",
        "colab_type": "code",
        "colab": {}
      },
      "source": [
        "# PCA dimensionality reduction\n",
        "from sklearn.decomposition import PCA\n",
        "\n",
        "pca = PCA(n_components=0.95)\n",
        "X_reduced = pca.fit_transform(X_train)"
      ],
      "execution_count": 0,
      "outputs": []
    },
    {
      "cell_type": "code",
      "metadata": {
        "id": "bB6s4NoISpeD",
        "colab_type": "code",
        "colab": {
          "base_uri": "https://localhost:8080/",
          "height": 34
        },
        "outputId": "21a39007-093d-46e5-bffd-cc294313a2cf"
      },
      "source": [
        "rdf_clf_2 = RandomForestClassifier()\n",
        "start = time()\n",
        "rdf_clf_2.fit(X_reduced, y_train)\n",
        "stop = time()\n",
        "stop - start"
      ],
      "execution_count": 9,
      "outputs": [
        {
          "output_type": "execute_result",
          "data": {
            "text/plain": [
              "97.30003961800003"
            ]
          },
          "metadata": {
            "tags": []
          },
          "execution_count": 9
        }
      ]
    },
    {
      "cell_type": "code",
      "metadata": {
        "id": "_CS-fDcxS3C5",
        "colab_type": "code",
        "colab": {
          "base_uri": "https://localhost:8080/",
          "height": 52
        },
        "outputId": "aa23c1cc-3676-4a12-d164-78e270c7f208"
      },
      "source": [
        "from sklearn.metrics import accuracy_score\n",
        "y_pred = rdf_clf.predict(X_test)\n",
        "X_test_reduced = pca.transform(X_test)\n",
        "y_pred_2 = rdf_clf_2.predict(X_test_reduced)\n",
        "print(accuracy_score(y_pred,y_test))\n",
        "print(accuracy_score(y_pred_2,y_test))"
      ],
      "execution_count": 12,
      "outputs": [
        {
          "output_type": "stream",
          "text": [
            "0.9717\n",
            "0.9516\n"
          ],
          "name": "stdout"
        }
      ]
    },
    {
      "cell_type": "markdown",
      "metadata": {
        "id": "AktFR4jqUmfY",
        "colab_type": "text"
      },
      "source": [
        "In randomforest, PCA dimensionality reduction method was ineffective; rather made reverse effect.\n",
        "\n",
        "but if softmax regression method, PCA could be effective"
      ]
    },
    {
      "cell_type": "code",
      "metadata": {
        "id": "-Nr1XN7pUPS8",
        "colab_type": "code",
        "colab": {
          "base_uri": "https://localhost:8080/",
          "height": 195
        },
        "outputId": "c7f1ae28-8a82-422b-efaf-dae1cb1b4798"
      },
      "source": [
        "from sklearn.linear_model import LogisticRegression\n",
        "\n",
        "log_clf = LogisticRegression(multi_class='multinomial',solver='lbfgs',max_iter=1000)\n",
        "start = time()\n",
        "log_clf.fit(X_train,y_train)\n",
        "stop = time()\n",
        "stop-start"
      ],
      "execution_count": 16,
      "outputs": [
        {
          "output_type": "stream",
          "text": [
            "/usr/local/lib/python3.6/dist-packages/sklearn/linear_model/_logistic.py:940: ConvergenceWarning: lbfgs failed to converge (status=1):\n",
            "STOP: TOTAL NO. of ITERATIONS REACHED LIMIT.\n",
            "\n",
            "Increase the number of iterations (max_iter) or scale the data as shown in:\n",
            "    https://scikit-learn.org/stable/modules/preprocessing.html\n",
            "Please also refer to the documentation for alternative solver options:\n",
            "    https://scikit-learn.org/stable/modules/linear_model.html#logistic-regression\n",
            "  extra_warning_msg=_LOGISTIC_SOLVER_CONVERGENCE_MSG)\n"
          ],
          "name": "stderr"
        },
        {
          "output_type": "execute_result",
          "data": {
            "text/plain": [
              "283.5783535549999"
            ]
          },
          "metadata": {
            "tags": []
          },
          "execution_count": 16
        }
      ]
    },
    {
      "cell_type": "code",
      "metadata": {
        "id": "X3UKWQfvVXV0",
        "colab_type": "code",
        "colab": {
          "base_uri": "https://localhost:8080/",
          "height": 195
        },
        "outputId": "f4d0ad67-8843-428b-e377-f73229d6c992"
      },
      "source": [
        "log_clf_2 = LogisticRegression(multi_class='multinomial',solver='lbfgs',max_iter=1000)\n",
        "start = time()\n",
        "log_clf_2.fit(X_reduced,y_train)\n",
        "stop = time()\n",
        "stop-start"
      ],
      "execution_count": 17,
      "outputs": [
        {
          "output_type": "stream",
          "text": [
            "/usr/local/lib/python3.6/dist-packages/sklearn/linear_model/_logistic.py:940: ConvergenceWarning: lbfgs failed to converge (status=1):\n",
            "STOP: TOTAL NO. of ITERATIONS REACHED LIMIT.\n",
            "\n",
            "Increase the number of iterations (max_iter) or scale the data as shown in:\n",
            "    https://scikit-learn.org/stable/modules/preprocessing.html\n",
            "Please also refer to the documentation for alternative solver options:\n",
            "    https://scikit-learn.org/stable/modules/linear_model.html#logistic-regression\n",
            "  extra_warning_msg=_LOGISTIC_SOLVER_CONVERGENCE_MSG)\n"
          ],
          "name": "stderr"
        },
        {
          "output_type": "execute_result",
          "data": {
            "text/plain": [
              "88.06507647699982"
            ]
          },
          "metadata": {
            "tags": []
          },
          "execution_count": 17
        }
      ]
    },
    {
      "cell_type": "code",
      "metadata": {
        "id": "CXPkp19ibWM5",
        "colab_type": "code",
        "colab": {
          "base_uri": "https://localhost:8080/",
          "height": 52
        },
        "outputId": "bf2a6279-d01d-4c12-80c2-09fe10ff9db8"
      },
      "source": [
        "y_pred = log_clf.predict(X_test)\n",
        "y_pred_2 = log_clf_2.predict(X_test_reduced)\n",
        "print(accuracy_score(y_pred,y_test))\n",
        "print(accuracy_score(y_pred_2,y_test))"
      ],
      "execution_count": 19,
      "outputs": [
        {
          "output_type": "stream",
          "text": [
            "0.92\n",
            "0.9238\n"
          ],
          "name": "stdout"
        }
      ]
    },
    {
      "cell_type": "markdown",
      "metadata": {
        "id": "5M04T8BEcBKI",
        "colab_type": "text"
      },
      "source": [
        "Exceptionally in this case PCA method increases both timely efficiency, and accuracy.\n",
        "\n",
        "learning speed increased almost 4 times by PCA dimensoinality reduction"
      ]
    },
    {
      "cell_type": "code",
      "metadata": {
        "id": "H3YCZ4Mxb4Ta",
        "colab_type": "code",
        "colab": {}
      },
      "source": [
        ""
      ],
      "execution_count": 0,
      "outputs": []
    }
  ]
}